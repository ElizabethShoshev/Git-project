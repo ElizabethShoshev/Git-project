{
 "cells": [
  {
   "cell_type": "markdown",
   "metadata": {
    "toc": true
   },
   "source": [
    "<h1>Содержание<span class=\"tocSkip\"></span></h1>\n",
    "<div class=\"toc\"><ul class=\"toc-item\"><li><span><a href=\"#Подготовка-данных\" data-toc-modified-id=\"Подготовка-данных-1\"><span class=\"toc-item-num\">1&nbsp;&nbsp;</span>Подготовка данных</a></span></li><li><span><a href=\"#Исследование-задачи\" data-toc-modified-id=\"Исследование-задачи-2\"><span class=\"toc-item-num\">2&nbsp;&nbsp;</span>Исследование задачи</a></span></li><li><span><a href=\"#Борьба-с-дисбалансом\" data-toc-modified-id=\"Борьба-с-дисбалансом-3\"><span class=\"toc-item-num\">3&nbsp;&nbsp;</span>Борьба с дисбалансом</a></span></li><li><span><a href=\"#Тестирование-модели\" data-toc-modified-id=\"Тестирование-модели-4\"><span class=\"toc-item-num\">4&nbsp;&nbsp;</span>Тестирование модели</a></span></li><li><span><a href=\"#Чек-лист-готовности-проекта\" data-toc-modified-id=\"Чек-лист-готовности-проекта-5\"><span class=\"toc-item-num\">5&nbsp;&nbsp;</span>Чек-лист готовности проекта</a></span></li></ul></div>"
   ]
  },
  {
   "cell_type": "markdown",
   "metadata": {},
   "source": [
    "# Отток клиентов"
   ]
  },
  {
   "cell_type": "markdown",
   "metadata": {},
   "source": [
    "Из «Бета-Банка» стали уходить клиенты. Каждый месяц. Немного, но заметно. Банковские маркетологи посчитали: сохранять текущих клиентов дешевле, чем привлекать новых.\n",
    "\n",
    "Нужно спрогнозировать, уйдёт клиент из банка в ближайшее время или нет. Вам предоставлены исторические данные о поведении клиентов и расторжении договоров с банком. \n",
    "\n",
    "Постройте модель с предельно большим значением *F1*-меры. Чтобы сдать проект успешно, нужно довести метрику до 0.59. Проверьте *F1*-меру на тестовой выборке самостоятельно.\n",
    "\n",
    "Дополнительно измеряйте *AUC-ROC*, сравнивайте её значение с *F1*-мерой.\n",
    "\n",
    "Источник данных: [https://www.kaggle.com/barelydedicated/bank-customer-churn-modeling](https://www.kaggle.com/barelydedicated/bank-customer-churn-modeling)"
   ]
  },
  {
   "cell_type": "markdown",
   "metadata": {},
   "source": [
    "## Подготовка данных"
   ]
  },
  {
   "cell_type": "code",
   "execution_count": 1,
   "metadata": {},
   "outputs": [],
   "source": [
    "#Импорт библиотек и различных метрик для работы \n",
    "import pandas as pd\n",
    "import numpy as np\n",
    "import matplotlib.pyplot as plt\n",
    "import seaborn as sns\n",
    "import warnings\n",
    "from sklearn.model_selection import train_test_split\n",
    "from sklearn.linear_model import LogisticRegression\n",
    "from sklearn.tree import DecisionTreeClassifier\n",
    "from sklearn.ensemble import RandomForestClassifier\n",
    "from sklearn.metrics import mean_absolute_error\n",
    "from sklearn.dummy import DummyClassifier\n",
    "from sklearn.metrics import accuracy_score \n",
    "from sklearn.preprocessing import OrdinalEncoder\n",
    "from sklearn.preprocessing import StandardScaler\n",
    "from sklearn.metrics import f1_score\n",
    "from sklearn.utils import shuffle\n",
    "from sklearn.metrics import roc_curve\n",
    "from sklearn.metrics import roc_auc_score\n",
    "from sklearn.model_selection import GridSearchCV"
   ]
  },
  {
   "cell_type": "code",
   "execution_count": 2,
   "metadata": {},
   "outputs": [
    {
     "data": {
      "text/html": [
       "<div>\n",
       "<style scoped>\n",
       "    .dataframe tbody tr th:only-of-type {\n",
       "        vertical-align: middle;\n",
       "    }\n",
       "\n",
       "    .dataframe tbody tr th {\n",
       "        vertical-align: top;\n",
       "    }\n",
       "\n",
       "    .dataframe thead th {\n",
       "        text-align: right;\n",
       "    }\n",
       "</style>\n",
       "<table border=\"1\" class=\"dataframe\">\n",
       "  <thead>\n",
       "    <tr style=\"text-align: right;\">\n",
       "      <th></th>\n",
       "      <th>RowNumber</th>\n",
       "      <th>CustomerId</th>\n",
       "      <th>Surname</th>\n",
       "      <th>CreditScore</th>\n",
       "      <th>Geography</th>\n",
       "      <th>Gender</th>\n",
       "      <th>Age</th>\n",
       "      <th>Tenure</th>\n",
       "      <th>Balance</th>\n",
       "      <th>NumOfProducts</th>\n",
       "      <th>HasCrCard</th>\n",
       "      <th>IsActiveMember</th>\n",
       "      <th>EstimatedSalary</th>\n",
       "      <th>Exited</th>\n",
       "    </tr>\n",
       "  </thead>\n",
       "  <tbody>\n",
       "    <tr>\n",
       "      <th>0</th>\n",
       "      <td>1</td>\n",
       "      <td>15634602</td>\n",
       "      <td>Hargrave</td>\n",
       "      <td>619</td>\n",
       "      <td>France</td>\n",
       "      <td>Female</td>\n",
       "      <td>42</td>\n",
       "      <td>2.0</td>\n",
       "      <td>0.00</td>\n",
       "      <td>1</td>\n",
       "      <td>1</td>\n",
       "      <td>1</td>\n",
       "      <td>101348.88</td>\n",
       "      <td>1</td>\n",
       "    </tr>\n",
       "    <tr>\n",
       "      <th>1</th>\n",
       "      <td>2</td>\n",
       "      <td>15647311</td>\n",
       "      <td>Hill</td>\n",
       "      <td>608</td>\n",
       "      <td>Spain</td>\n",
       "      <td>Female</td>\n",
       "      <td>41</td>\n",
       "      <td>1.0</td>\n",
       "      <td>83807.86</td>\n",
       "      <td>1</td>\n",
       "      <td>0</td>\n",
       "      <td>1</td>\n",
       "      <td>112542.58</td>\n",
       "      <td>0</td>\n",
       "    </tr>\n",
       "    <tr>\n",
       "      <th>2</th>\n",
       "      <td>3</td>\n",
       "      <td>15619304</td>\n",
       "      <td>Onio</td>\n",
       "      <td>502</td>\n",
       "      <td>France</td>\n",
       "      <td>Female</td>\n",
       "      <td>42</td>\n",
       "      <td>8.0</td>\n",
       "      <td>159660.80</td>\n",
       "      <td>3</td>\n",
       "      <td>1</td>\n",
       "      <td>0</td>\n",
       "      <td>113931.57</td>\n",
       "      <td>1</td>\n",
       "    </tr>\n",
       "    <tr>\n",
       "      <th>3</th>\n",
       "      <td>4</td>\n",
       "      <td>15701354</td>\n",
       "      <td>Boni</td>\n",
       "      <td>699</td>\n",
       "      <td>France</td>\n",
       "      <td>Female</td>\n",
       "      <td>39</td>\n",
       "      <td>1.0</td>\n",
       "      <td>0.00</td>\n",
       "      <td>2</td>\n",
       "      <td>0</td>\n",
       "      <td>0</td>\n",
       "      <td>93826.63</td>\n",
       "      <td>0</td>\n",
       "    </tr>\n",
       "    <tr>\n",
       "      <th>4</th>\n",
       "      <td>5</td>\n",
       "      <td>15737888</td>\n",
       "      <td>Mitchell</td>\n",
       "      <td>850</td>\n",
       "      <td>Spain</td>\n",
       "      <td>Female</td>\n",
       "      <td>43</td>\n",
       "      <td>2.0</td>\n",
       "      <td>125510.82</td>\n",
       "      <td>1</td>\n",
       "      <td>1</td>\n",
       "      <td>1</td>\n",
       "      <td>79084.10</td>\n",
       "      <td>0</td>\n",
       "    </tr>\n",
       "  </tbody>\n",
       "</table>\n",
       "</div>"
      ],
      "text/plain": [
       "   RowNumber  CustomerId   Surname  CreditScore Geography  Gender  Age  \\\n",
       "0          1    15634602  Hargrave          619    France  Female   42   \n",
       "1          2    15647311      Hill          608     Spain  Female   41   \n",
       "2          3    15619304      Onio          502    France  Female   42   \n",
       "3          4    15701354      Boni          699    France  Female   39   \n",
       "4          5    15737888  Mitchell          850     Spain  Female   43   \n",
       "\n",
       "   Tenure    Balance  NumOfProducts  HasCrCard  IsActiveMember  \\\n",
       "0     2.0       0.00              1          1               1   \n",
       "1     1.0   83807.86              1          0               1   \n",
       "2     8.0  159660.80              3          1               0   \n",
       "3     1.0       0.00              2          0               0   \n",
       "4     2.0  125510.82              1          1               1   \n",
       "\n",
       "   EstimatedSalary  Exited  \n",
       "0        101348.88       1  \n",
       "1        112542.58       0  \n",
       "2        113931.57       1  \n",
       "3         93826.63       0  \n",
       "4         79084.10       0  "
      ]
     },
     "execution_count": 2,
     "metadata": {},
     "output_type": "execute_result"
    }
   ],
   "source": [
    "df = pd.read_csv('/datasets/Churn.csv')\n",
    "df.head()"
   ]
  },
  {
   "cell_type": "code",
   "execution_count": 3,
   "metadata": {},
   "outputs": [
    {
     "name": "stdout",
     "output_type": "stream",
     "text": [
      "<class 'pandas.core.frame.DataFrame'>\n",
      "RangeIndex: 10000 entries, 0 to 9999\n",
      "Data columns (total 14 columns):\n",
      " #   Column           Non-Null Count  Dtype  \n",
      "---  ------           --------------  -----  \n",
      " 0   RowNumber        10000 non-null  int64  \n",
      " 1   CustomerId       10000 non-null  int64  \n",
      " 2   Surname          10000 non-null  object \n",
      " 3   CreditScore      10000 non-null  int64  \n",
      " 4   Geography        10000 non-null  object \n",
      " 5   Gender           10000 non-null  object \n",
      " 6   Age              10000 non-null  int64  \n",
      " 7   Tenure           9091 non-null   float64\n",
      " 8   Balance          10000 non-null  float64\n",
      " 9   NumOfProducts    10000 non-null  int64  \n",
      " 10  HasCrCard        10000 non-null  int64  \n",
      " 11  IsActiveMember   10000 non-null  int64  \n",
      " 12  EstimatedSalary  10000 non-null  float64\n",
      " 13  Exited           10000 non-null  int64  \n",
      "dtypes: float64(3), int64(8), object(3)\n",
      "memory usage: 1.1+ MB\n"
     ]
    }
   ],
   "source": [
    "df.info()"
   ]
  },
  {
   "cell_type": "markdown",
   "metadata": {},
   "source": [
    "В данном датасете 13 признаков, целевой признак (Exited), 10000 строк."
   ]
  },
  {
   "cell_type": "code",
   "execution_count": 4,
   "metadata": {},
   "outputs": [
    {
     "data": {
      "text/plain": [
       "(10000, 14)"
      ]
     },
     "execution_count": 4,
     "metadata": {},
     "output_type": "execute_result"
    }
   ],
   "source": [
    "df.shape"
   ]
  },
  {
   "cell_type": "code",
   "execution_count": 5,
   "metadata": {},
   "outputs": [],
   "source": [
    "# отключим некритические предупреждения в коде\n",
    "warnings.filterwarnings(\"ignore\")"
   ]
  },
  {
   "cell_type": "markdown",
   "metadata": {},
   "source": [
    "Вывод:\n",
    "В данных присутствуют столбцы, которые не нужны. Их можно удалить, т.к. в анализе они не нужны. Также есть пропуски в значении Tenure (сколько лет человек является клиентом банка).  Заполним пропуски и переведем в int"
   ]
  },
  {
   "cell_type": "markdown",
   "metadata": {},
   "source": [
    "## Исследование задачи"
   ]
  },
  {
   "cell_type": "markdown",
   "metadata": {},
   "source": [
    "Согласно документации к данным:  \n",
    "    \n",
    "Каждый объект в наборе данных — это информация о поведении одного пользователя за месяц.  \n",
    "\n",
    "**Описание данных:**  \n",
    "`RowNumber` — индекс строки в данных (int64)    \n",
    "`CustomerId` — уникальный идентификатор клиента (int64) \n",
    "`Surname` — фамилия (object) \n",
    "`CreditScore` — кредитный рейтинг (int64) \n",
    "`Geography` — страна проживания (object)   \n",
    "`Gender` — пол (object)  \n",
    "`Age` — возраст (int64) \n",
    "`Tenure` — сколько лет человек является клиентом банка (float64)  \n",
    "`Balance` — баланс на счёте (float64) \n",
    "`NumOfProducts` — количество продуктов банка, используемых клиентом (int64)   \n",
    "`HasCrCard` — наличие кредитной карты (int64) \n",
    "`IsActiveMember` — активность клиента (int64) \n",
    "`EstimatedSalary` — предполагаемая зарплата (float64) \n",
    "\n",
    "*Целевой признак*\n",
    "`Exited` — факт ухода клиента (int64)\n",
    "  \n"
   ]
  },
  {
   "cell_type": "code",
   "execution_count": 6,
   "metadata": {},
   "outputs": [],
   "source": [
    "# удалим колонки CustomerId,Surname. Предполагаем , что id и фамилия клиента совершенно не влияют на факт ухода клиента\n",
    "df.drop(columns=['CustomerId','Surname', 'RowNumber'],axis=1,inplace=True)"
   ]
  },
  {
   "cell_type": "code",
   "execution_count": 7,
   "metadata": {},
   "outputs": [
    {
     "data": {
      "text/html": [
       "<div>\n",
       "<style scoped>\n",
       "    .dataframe tbody tr th:only-of-type {\n",
       "        vertical-align: middle;\n",
       "    }\n",
       "\n",
       "    .dataframe tbody tr th {\n",
       "        vertical-align: top;\n",
       "    }\n",
       "\n",
       "    .dataframe thead th {\n",
       "        text-align: right;\n",
       "    }\n",
       "</style>\n",
       "<table border=\"1\" class=\"dataframe\">\n",
       "  <thead>\n",
       "    <tr style=\"text-align: right;\">\n",
       "      <th></th>\n",
       "      <th>CreditScore</th>\n",
       "      <th>Age</th>\n",
       "      <th>Tenure</th>\n",
       "      <th>Balance</th>\n",
       "      <th>NumOfProducts</th>\n",
       "      <th>HasCrCard</th>\n",
       "      <th>IsActiveMember</th>\n",
       "      <th>EstimatedSalary</th>\n",
       "      <th>Exited</th>\n",
       "      <th>Geography_Germany</th>\n",
       "      <th>Geography_Spain</th>\n",
       "      <th>Gender_Male</th>\n",
       "    </tr>\n",
       "  </thead>\n",
       "  <tbody>\n",
       "    <tr>\n",
       "      <th>0</th>\n",
       "      <td>619</td>\n",
       "      <td>42</td>\n",
       "      <td>2.0</td>\n",
       "      <td>0.00</td>\n",
       "      <td>1</td>\n",
       "      <td>1</td>\n",
       "      <td>1</td>\n",
       "      <td>101348.88</td>\n",
       "      <td>1</td>\n",
       "      <td>0</td>\n",
       "      <td>0</td>\n",
       "      <td>0</td>\n",
       "    </tr>\n",
       "    <tr>\n",
       "      <th>1</th>\n",
       "      <td>608</td>\n",
       "      <td>41</td>\n",
       "      <td>1.0</td>\n",
       "      <td>83807.86</td>\n",
       "      <td>1</td>\n",
       "      <td>0</td>\n",
       "      <td>1</td>\n",
       "      <td>112542.58</td>\n",
       "      <td>0</td>\n",
       "      <td>0</td>\n",
       "      <td>1</td>\n",
       "      <td>0</td>\n",
       "    </tr>\n",
       "    <tr>\n",
       "      <th>2</th>\n",
       "      <td>502</td>\n",
       "      <td>42</td>\n",
       "      <td>8.0</td>\n",
       "      <td>159660.80</td>\n",
       "      <td>3</td>\n",
       "      <td>1</td>\n",
       "      <td>0</td>\n",
       "      <td>113931.57</td>\n",
       "      <td>1</td>\n",
       "      <td>0</td>\n",
       "      <td>0</td>\n",
       "      <td>0</td>\n",
       "    </tr>\n",
       "    <tr>\n",
       "      <th>3</th>\n",
       "      <td>699</td>\n",
       "      <td>39</td>\n",
       "      <td>1.0</td>\n",
       "      <td>0.00</td>\n",
       "      <td>2</td>\n",
       "      <td>0</td>\n",
       "      <td>0</td>\n",
       "      <td>93826.63</td>\n",
       "      <td>0</td>\n",
       "      <td>0</td>\n",
       "      <td>0</td>\n",
       "      <td>0</td>\n",
       "    </tr>\n",
       "    <tr>\n",
       "      <th>4</th>\n",
       "      <td>850</td>\n",
       "      <td>43</td>\n",
       "      <td>2.0</td>\n",
       "      <td>125510.82</td>\n",
       "      <td>1</td>\n",
       "      <td>1</td>\n",
       "      <td>1</td>\n",
       "      <td>79084.10</td>\n",
       "      <td>0</td>\n",
       "      <td>0</td>\n",
       "      <td>1</td>\n",
       "      <td>0</td>\n",
       "    </tr>\n",
       "  </tbody>\n",
       "</table>\n",
       "</div>"
      ],
      "text/plain": [
       "   CreditScore  Age  Tenure    Balance  NumOfProducts  HasCrCard  \\\n",
       "0          619   42     2.0       0.00              1          1   \n",
       "1          608   41     1.0   83807.86              1          0   \n",
       "2          502   42     8.0  159660.80              3          1   \n",
       "3          699   39     1.0       0.00              2          0   \n",
       "4          850   43     2.0  125510.82              1          1   \n",
       "\n",
       "   IsActiveMember  EstimatedSalary  Exited  Geography_Germany  \\\n",
       "0               1        101348.88       1                  0   \n",
       "1               1        112542.58       0                  0   \n",
       "2               0        113931.57       1                  0   \n",
       "3               0         93826.63       0                  0   \n",
       "4               1         79084.10       0                  0   \n",
       "\n",
       "   Geography_Spain  Gender_Male  \n",
       "0                0            0  \n",
       "1                1            0  \n",
       "2                0            0  \n",
       "3                0            0  \n",
       "4                1            0  "
      ]
     },
     "execution_count": 7,
     "metadata": {},
     "output_type": "execute_result"
    }
   ],
   "source": [
    "# Применим one hot encoding к датафрейму, избежав \"ловушку фиктивных признаков\"\n",
    "df_ohe=pd.get_dummies(df, drop_first=True)\n",
    "df_ohe.head()"
   ]
  },
  {
   "cell_type": "code",
   "execution_count": 8,
   "metadata": {},
   "outputs": [
    {
     "data": {
      "text/plain": [
       "count    9091.000000\n",
       "mean        4.997690\n",
       "std         2.894723\n",
       "min         0.000000\n",
       "25%         2.000000\n",
       "50%         5.000000\n",
       "75%         7.000000\n",
       "max        10.000000\n",
       "Name: Tenure, dtype: float64"
      ]
     },
     "execution_count": 8,
     "metadata": {},
     "output_type": "execute_result"
    }
   ],
   "source": [
    "# посмотрим статистики по столбцу Tenure\n",
    "df_ohe['Tenure'].describe()"
   ]
  },
  {
   "cell_type": "code",
   "execution_count": 9,
   "metadata": {},
   "outputs": [
    {
     "data": {
      "text/plain": [
       "1.0     952\n",
       "2.0     950\n",
       "8.0     933\n",
       "3.0     928\n",
       "5.0     927\n",
       "7.0     925\n",
       "4.0     885\n",
       "9.0     882\n",
       "6.0     881\n",
       "10.0    446\n",
       "0.0     382\n",
       "Name: Tenure, dtype: int64"
      ]
     },
     "execution_count": 9,
     "metadata": {},
     "output_type": "execute_result"
    }
   ],
   "source": [
    "# посмотрим значения по столбцу Tenure\n",
    "df_ohe['Tenure'].value_counts()"
   ]
  },
  {
   "cell_type": "code",
   "execution_count": 10,
   "metadata": {},
   "outputs": [
    {
     "data": {
      "image/png": "[encoded data removed]",
      "text/plain": [
       "<Figure size 432x288 with 1 Axes>"
      ]
     },
     "metadata": {
      "needs_background": "light"
     },
     "output_type": "display_data"
    }
   ],
   "source": [
    "# построим гистограмму по столбцу Tenure\n",
    "df_ohe['Tenure'].hist(bins=11)\n",
    "plt.show()"
   ]
  },
  {
   "cell_type": "markdown",
   "metadata": {},
   "source": [
    "В связи с тем, что природа пропусков неизвестна заполним случайными числами, чтобы не воиять на распределение."
   ]
  },
  {
   "cell_type": "code",
   "execution_count": 11,
   "metadata": {},
   "outputs": [],
   "source": [
    "#df_ohe['Tenure'].fillna(0,inplace=True)\n",
    "data = (np.random.randint(0,10,size=df_ohe['Tenure'].isna().sum()))\n",
    "df_ohe.loc[df_ohe['Tenure'].isna(),'Tenure']=data"
   ]
  },
  {
   "cell_type": "markdown",
   "metadata": {},
   "source": [
    "Посмотрим повторно гистограмму по столбцу Tenure"
   ]
  },
  {
   "cell_type": "code",
   "execution_count": 12,
   "metadata": {},
   "outputs": [
    {
     "data": {
      "image/png": "[encoded data removed]",
      "text/plain": [
       "<Figure size 432x288 with 1 Axes>"
      ]
     },
     "metadata": {
      "needs_background": "light"
     },
     "output_type": "display_data"
    }
   ],
   "source": [
    "df_ohe['Tenure'].hist(bins=11)\n",
    "plt.show()"
   ]
  },
  {
   "cell_type": "code",
   "execution_count": 13,
   "metadata": {},
   "outputs": [
    {
     "data": {
      "text/plain": [
       "CreditScore          0\n",
       "Age                  0\n",
       "Tenure               0\n",
       "Balance              0\n",
       "NumOfProducts        0\n",
       "HasCrCard            0\n",
       "IsActiveMember       0\n",
       "EstimatedSalary      0\n",
       "Exited               0\n",
       "Geography_Germany    0\n",
       "Geography_Spain      0\n",
       "Gender_Male          0\n",
       "dtype: int64"
      ]
     },
     "execution_count": 13,
     "metadata": {},
     "output_type": "execute_result"
    }
   ],
   "source": [
    "# Проверим, что в датафрейме отсутствуют пропущенные значения\n",
    "df_ohe.isna().sum()"
   ]
  },
  {
   "cell_type": "markdown",
   "metadata": {},
   "source": [
    "##Исследуем баланс классов, обучим модель без учёта дисбаланса.\n",
    "Разобъем данные на выборки"
   ]
  },
  {
   "cell_type": "code",
   "execution_count": 14,
   "metadata": {},
   "outputs": [],
   "source": [
    "# Разбиваем данные после OHE на 3 выборки:обучающую, валидационную, тестовую\n",
    "df_ohe_train, df_ohe_valid_test=train_test_split(df_ohe,train_size=0.6,test_size=0.4,random_state=12345)\n",
    "df_ohe_valid,df_ohe_test=train_test_split(df_ohe_valid_test,test_size=0.5,random_state=12345)"
   ]
  },
  {
   "cell_type": "code",
   "execution_count": 15,
   "metadata": {},
   "outputs": [
    {
     "data": {
      "text/plain": [
       "6000"
      ]
     },
     "execution_count": 15,
     "metadata": {},
     "output_type": "execute_result"
    }
   ],
   "source": [
    "# выборка для обучения\n",
    "len(df_ohe_train) "
   ]
  },
  {
   "cell_type": "code",
   "execution_count": 16,
   "metadata": {},
   "outputs": [
    {
     "data": {
      "text/plain": [
       "2000"
      ]
     },
     "execution_count": 16,
     "metadata": {},
     "output_type": "execute_result"
    }
   ],
   "source": [
    "# выборка валидационная\n",
    "len(df_ohe_valid) "
   ]
  },
  {
   "cell_type": "code",
   "execution_count": 17,
   "metadata": {},
   "outputs": [
    {
     "data": {
      "text/plain": [
       "2000"
      ]
     },
     "execution_count": 17,
     "metadata": {},
     "output_type": "execute_result"
    }
   ],
   "source": [
    "# выборка тестовая\n",
    "len(df_ohe_test) "
   ]
  },
  {
   "cell_type": "markdown",
   "metadata": {},
   "source": [
    "Данные разобьем на три части: обучающую, валидационную и тестовую. Исходные данные разбиваем в соотношении 3:1:1."
   ]
  },
  {
   "cell_type": "code",
   "execution_count": 18,
   "metadata": {},
   "outputs": [],
   "source": [
    "target=df_ohe['Exited'] # Целевой признак\n",
    "features=df_ohe.drop(['Exited'],axis=1) # Признаки"
   ]
  },
  {
   "cell_type": "code",
   "execution_count": 19,
   "metadata": {},
   "outputs": [],
   "source": [
    "#На базе обучающей выборки формирую датасет признаков и serias целевого признака ['Exited']\n",
    "train_features = df_ohe_train.drop(['Exited'], axis=1)\n",
    "train_target = df_ohe_train['Exited'] "
   ]
  },
  {
   "cell_type": "code",
   "execution_count": 20,
   "metadata": {},
   "outputs": [],
   "source": [
    "#На базе валидационной выборки формирую датасет признаков и serias целевого признака ['Exited']\n",
    "valid_features = df_ohe_valid.drop(['Exited'], axis=1)\n",
    "valid_target = df_ohe_valid['Exited']"
   ]
  },
  {
   "cell_type": "code",
   "execution_count": 21,
   "metadata": {},
   "outputs": [],
   "source": [
    "#На базе тестовой выборки формирую датасет признаков и serias целевого признака ['Exited']\n",
    "test_features = df_ohe_test.drop(['Exited'], axis=1)\n",
    "test_target = df_ohe_test['Exited']"
   ]
  },
  {
   "cell_type": "code",
   "execution_count": 22,
   "metadata": {},
   "outputs": [],
   "source": [
    "# Стандартизируем выборки, т.к есть значения и маленькие и очень большие. \n",
    "numeric=['CreditScore','Age','Tenure','Balance','NumOfProducts', 'EstimatedSalary']\n",
    "scaler=StandardScaler()\n",
    "scaler.fit(df_ohe_train[numeric])\n",
    "test_features[numeric]=scaler.transform(test_features[numeric]) \n",
    "train_features[numeric]=scaler.transform(train_features[numeric])\n",
    "valid_features[numeric]=scaler.transform(valid_features[numeric])"
   ]
  },
  {
   "cell_type": "code",
   "execution_count": 23,
   "metadata": {},
   "outputs": [
    {
     "data": {
      "text/plain": [
       "((7963, 11), (2037, 11))"
      ]
     },
     "execution_count": 23,
     "metadata": {},
     "output_type": "execute_result"
    }
   ],
   "source": [
    "# Посмотрим количество объектов отрицательного и положительно класса\n",
    "features[target == 0].shape, features[target == 1].shape"
   ]
  },
  {
   "cell_type": "markdown",
   "metadata": {},
   "source": [
    "Наблюдается дисбаланс классов, объектов отрицательного класса почти в 4 раза больше , чем объектов положительного. Рассчитаем базовые модели на несбалансированных данных."
   ]
  },
  {
   "cell_type": "markdown",
   "metadata": {},
   "source": [
    "Обучение с помощью модели DecisionTree"
   ]
  },
  {
   "cell_type": "code",
   "execution_count": 42,
   "metadata": {},
   "outputs": [
    {
     "data": {
      "text/plain": [
       "GridSearchCV(cv=5, estimator=DecisionTreeClassifier(random_state=12345),\n",
       "             param_grid={'criterion': ['gini', 'entropy'],\n",
       "                         'max_depth': [5, 10, 15, 20]},\n",
       "             scoring='f1')"
      ]
     },
     "execution_count": 42,
     "metadata": {},
     "output_type": "execute_result"
    }
   ],
   "source": [
    "# Подберем оптимальные параметры для модели решающего дерева\n",
    "parameters = {\n",
    "    'criterion' : ['gini', 'entropy'],\n",
    "    'max_depth':[5,10,15,20]\n",
    "}\n",
    "\n",
    "dtc = DecisionTreeClassifier(random_state=12345)\n",
    "\n",
    "clf_dtc = GridSearchCV(\n",
    "    estimator = dtc,\n",
    "    param_grid = parameters,\n",
    "    scoring = 'f1',\n",
    "    cv=5)\n",
    "\n",
    "clf_dtc.fit(train_features, train_target)"
   ]
  },
  {
   "cell_type": "code",
   "execution_count": 43,
   "metadata": {},
   "outputs": [
    {
     "name": "stdout",
     "output_type": "stream",
     "text": [
      "F1: 0.5114155251141553\n"
     ]
    }
   ],
   "source": [
    "# Обучим модель решающего дерева с лучшими гиперпараметрами и рассчитаем метрики на тестовой выборке\n",
    "model_tree = clf_dtc.best_estimator_.fit(train_features,train_target)\n",
    "prediction_tree = model_tree.predict(test_features)\n",
    "print(\"F1:\", f1_score(test_target,prediction_tree))"
   ]
  },
  {
   "cell_type": "markdown",
   "metadata": {},
   "source": [
    "Обучение с помощью модели RandomForest"
   ]
  },
  {
   "cell_type": "code",
   "execution_count": 25,
   "metadata": {},
   "outputs": [
    {
     "data": {
      "text/plain": [
       "GridSearchCV(cv=5, estimator=RandomForestClassifier(random_state=12345),\n",
       "             param_grid={'criterion': ['gini', 'entropy'],\n",
       "                         'max_depth': [5, 10, 20],\n",
       "                         'n_estimators': [25, 50, 100, 150]},\n",
       "             scoring='f1')"
      ]
     },
     "execution_count": 25,
     "metadata": {},
     "output_type": "execute_result"
    }
   ],
   "source": [
    "# Подберем оптимальные параметры для модели случайного леса\n",
    "parameters = {\n",
    "    'n_estimators' : [10],\n",
    "    'criterion' : ['gini', 'entropy'],\n",
    "    'max_depth':[5,10,20]\n",
    "}\n",
    "\n",
    "rfc = RandomForestClassifier(random_state=12345)\n",
    "\n",
    "clf_rfc = GridSearchCV(\n",
    "    estimator = rfc,\n",
    "    param_grid = parameters,\n",
    "    scoring = 'f1',\n",
    "    cv=5)\n",
    "\n",
    "clf_rfc.fit(train_features, train_target)"
   ]
  },
  {
   "cell_type": "code",
   "execution_count": 26,
   "metadata": {},
   "outputs": [
    {
     "name": "stdout",
     "output_type": "stream",
     "text": [
      "F1: 0.5345345345345346\n"
     ]
    }
   ],
   "source": [
    "# Обучим модель случайного леса с лучшими гиперпараметрами и рассчитаем метрики на тестовой выборке\n",
    "model_forest = clf_rfc.best_estimator_.fit(train_features,train_target)\n",
    "prediction_forest = model_forest.predict(test_features)\n",
    "print(\"F1:\", f1_score(test_target,prediction_forest))"
   ]
  },
  {
   "cell_type": "markdown",
   "metadata": {},
   "source": [
    "Обучение с помощью модели Logistic"
   ]
  },
  {
   "cell_type": "code",
   "execution_count": 27,
   "metadata": {},
   "outputs": [
    {
     "name": "stdout",
     "output_type": "stream",
     "text": [
      "F1: 0.1258741258741259\n"
     ]
    }
   ],
   "source": [
    "model_logistic=LogisticRegression(random_state=12345, solver='liblinear').fit(train_features,train_target)\n",
    "prediction_logistic=model_logistic.predict(test_features)\n",
    "print('F1:',f1_score(valid_target,prediction_logistic))"
   ]
  },
  {
   "cell_type": "markdown",
   "metadata": {},
   "source": [
    "Вывод: F1=0.344"
   ]
  },
  {
   "cell_type": "raw",
   "metadata": {},
   "source": [
    "Общий вывод:\n",
    "Рассматривая данные с дисбалансом (но, с переведенными категориальными в стандартизированные данные) тремя моделями можно сделать вывод, что саммая лучшая модель оказалась DecisionForest. При F1=0,535 на тестовой выборке."
   ]
  },
  {
   "cell_type": "markdown",
   "metadata": {},
   "source": [
    "## Борьба с дисбалансом"
   ]
  },
  {
   "cell_type": "markdown",
   "metadata": {},
   "source": [
    "Воспользуемся функцией Upsampling и увеличим количество клиентов оттока(target==1)"
   ]
  },
  {
   "cell_type": "code",
   "execution_count": 28,
   "metadata": {},
   "outputs": [],
   "source": [
    "## Функция Upsampling\n",
    "def upsampling (features,target,repeat):\n",
    "    #Разделяем выборку по значениям целевой функции\n",
    "    target_one=target[target==1]\n",
    "    target_null=target[target==0]\n",
    "    features_one=features[target==1]\n",
    "    features_null=features[target==0]\n",
    "    \n",
    "    #Увеличиваем и соединяем обратно\n",
    "    upsampling_features=pd.concat([features_null]+[features_one]*repeat)\n",
    "    upsampling_target=pd.concat([target_null]+[target_one]*repeat)\n",
    "    \n",
    "    # Перемешиваем\n",
    "    upsampling_features,upsampling_target=shuffle(upsampling_features,upsampling_target,random_state=1234)\n",
    "    \n",
    "    return upsampling_features,upsampling_target"
   ]
  },
  {
   "cell_type": "code",
   "execution_count": 29,
   "metadata": {},
   "outputs": [],
   "source": [
    "features_balance_up,target_balance_up=upsampling(train_features,train_target,4)"
   ]
  },
  {
   "cell_type": "markdown",
   "metadata": {},
   "source": [
    "Воспользуемся функцией Downsampling и увеличим количество клиентов оттока(target==1)\n",
    "def downsampling(features,target,fraction):\n",
    "    features_null=features[target==0]\n",
    "    features_one=features[target==1]\n",
    "    target_null=target[target==0]\n",
    "    target_one=target[target==1]\n",
    "    \n",
    "    downsampling_features=pd.concat([features_null.sample(frac=0.4,random_state=1234)]+[features_one])\n",
    "    downsampling_target=pd.concat([target_null.sample(frac=0.4,random_state=1234)]+[target_one])\n",
    "    \n",
    "    downsampling_features,downsampling_target=shuffle(downsampling_features,downsampling_target,random_state=1234)\n",
    "    return downsampling_features,downsampling_target\n",
    "features_balance_up,target_balance_up=downsampling(features,target,0.4)"
   ]
  },
  {
   "cell_type": "markdown",
   "metadata": {},
   "source": [
    "Вывод: т.к количество данных не так много, можно воспользоваться именно увеличением выборки, а не уменьшением (Downsampling)."
   ]
  },
  {
   "cell_type": "markdown",
   "metadata": {},
   "source": [
    "## Тестирование модели"
   ]
  },
  {
   "cell_type": "markdown",
   "metadata": {},
   "source": [
    "После балансирования данных."
   ]
  },
  {
   "cell_type": "markdown",
   "metadata": {},
   "source": [
    "Обучение с помощью модели DecisionTree"
   ]
  },
  {
   "cell_type": "code",
   "execution_count": 44,
   "metadata": {},
   "outputs": [
    {
     "data": {
      "text/plain": [
       "GridSearchCV(cv=5, estimator=DecisionTreeClassifier(random_state=12345),\n",
       "             param_grid={'class_weight': ['balanced'],\n",
       "                         'criterion': ['gini', 'entropy'],\n",
       "                         'max_depth': [5, 10, 15, 20]},\n",
       "             scoring='f1')"
      ]
     },
     "execution_count": 44,
     "metadata": {},
     "output_type": "execute_result"
    }
   ],
   "source": [
    "# Подберем оптимальные параметры для модели решающего дерева с параметром class_weight = 'balanced'\n",
    "\n",
    "parameters = {\n",
    "    'criterion' : ['gini', 'entropy'],\n",
    "    'max_depth':[5,10,15,20],\n",
    "    'class_weight' : ['balanced']\n",
    "}\n",
    "\n",
    "dtc = DecisionTreeClassifier(random_state=12345)\n",
    "\n",
    "clf_dtc_b = GridSearchCV(\n",
    "    estimator = dtc,\n",
    "    param_grid = parameters,\n",
    "    scoring = 'f1',\n",
    "    cv=5)\n",
    "\n",
    "clf_dtc_b.fit(train_features, train_target)"
   ]
  },
  {
   "cell_type": "code",
   "execution_count": 45,
   "metadata": {},
   "outputs": [
    {
     "name": "stdout",
     "output_type": "stream",
     "text": [
      "F1: 0.5741525423728815\n"
     ]
    }
   ],
   "source": [
    "# Обучим модель решающего дерева с лучшими гиперпараметрами и с параметром class_weight = 'balanced'. \n",
    "# Рассчитаем метрики на тестовой выборке\n",
    "model_tree = clf_dtc.best_estimator_.fit(features_balance_up,target_balance_up)\n",
    "prediction_tree = model_tree.predict(test_features)\n",
    "print(\"F1:\", f1_score(test_target,prediction_tree))"
   ]
  },
  {
   "cell_type": "markdown",
   "metadata": {},
   "source": [
    "Обучение с помощью модели RandomForest"
   ]
  },
  {
   "cell_type": "code",
   "execution_count": 31,
   "metadata": {},
   "outputs": [
    {
     "data": {
      "text/plain": [
       "GridSearchCV(cv=5, estimator=RandomForestClassifier(random_state=12345),\n",
       "             param_grid={'class_weight': ['balanced'],\n",
       "                         'criterion': ['gini', 'entropy'],\n",
       "                         'max_depth': [5, 10, 20],\n",
       "                         'n_estimators': [25, 50, 100, 150]},\n",
       "             scoring='f1')"
      ]
     },
     "execution_count": 31,
     "metadata": {},
     "output_type": "execute_result"
    }
   ],
   "source": [
    "# Подберем оптимальные параметры для модели случайного леса с параметром class_weight = 'balanced'\n",
    "parameters = {\n",
    "    'n_estimators' : [10],\n",
    "    'criterion' : ['gini', 'entropy'],\n",
    "    'max_depth':[5,10,20],    \n",
    "    'class_weight' : ['balanced']\n",
    "}\n",
    "\n",
    "rfc = RandomForestClassifier(random_state=12345)\n",
    "\n",
    "clf_rfc_b = GridSearchCV(\n",
    "    estimator = rfc,\n",
    "    param_grid = parameters,\n",
    "    scoring = 'f1',\n",
    "    cv=5)\n",
    "\n",
    "clf_rfc_b.fit(train_features, train_target)\n",
    "\n"
   ]
  },
  {
   "cell_type": "code",
   "execution_count": 32,
   "metadata": {},
   "outputs": [
    {
     "name": "stdout",
     "output_type": "stream",
     "text": [
      "F1: 0.610752688172043\n"
     ]
    }
   ],
   "source": [
    "# Обучим модель Случайного леса с лучшими гиперпараметрами и с параметром class_weight = 'balanced'. \n",
    "# Рассчитаем метрики на тестовой выборке\n",
    "model_forest_b = clf_rfc_b.best_estimator_.fit(features_balance_up,target_balance_up)\n",
    "prediction_forest = model_forest_b.predict(test_features)\n",
    "print(\"F1:\", f1_score(test_target, prediction_forest))"
   ]
  },
  {
   "cell_type": "markdown",
   "metadata": {},
   "source": [
    "Сделаем проверку  RandomForest на валидационных данных"
   ]
  },
  {
   "cell_type": "code",
   "execution_count": 46,
   "metadata": {},
   "outputs": [
    {
     "name": "stdout",
     "output_type": "stream",
     "text": [
      "F1: 0.48547008547008547\n"
     ]
    }
   ],
   "source": [
    "model_logistic=LogisticRegression(class_weight='balanced',solver='liblinear').fit(features_balance_up,target_balance_up)\n",
    "prediction=model_logistic.predict(valid_features)\n",
    "print('F1:',f1_score(valid_target,prediction))"
   ]
  },
  {
   "cell_type": "markdown",
   "metadata": {},
   "source": [
    "Вывод: После балансировки наилучшей моделью является также RandomForest с F1=0.611"
   ]
  },
  {
   "cell_type": "code",
   "execution_count": 47,
   "metadata": {},
   "outputs": [
    {
     "name": "stdout",
     "output_type": "stream",
     "text": [
      "F1: 0.5658682634730539\n"
     ]
    }
   ],
   "source": [
    "model_rfc = RandomForestClassifier(random_state=12345)\n",
    "model_rfc.fit(train_features, train_target)\n",
    "predictions_valid_rfc = model_rfc.predict(valid_features)\n",
    "\n",
    "print('F1:',f1_score(valid_target,predictions_valid_rfc))"
   ]
  },
  {
   "cell_type": "markdown",
   "metadata": {},
   "source": [
    "Проверка пройдена (на тестовой моделе F1 = 0.611, на валидационной - 0,566)"
   ]
  },
  {
   "cell_type": "markdown",
   "metadata": {},
   "source": [
    "Рисуем ROC для всех моделей"
   ]
  },
  {
   "cell_type": "code",
   "execution_count": 35,
   "metadata": {},
   "outputs": [
    {
     "data": {
      "text/plain": [
       "0.7860401708212608"
      ]
     },
     "execution_count": 35,
     "metadata": {},
     "output_type": "execute_result"
    }
   ],
   "source": [
    "probabilities_tree=model_tree.predict_proba(valid_features)\n",
    "probabilities_one_valid_tree=probabilities_tree[:,1]\n",
    "fpr_tree,tpr_tree,thresholds=roc_curve(valid_target,probabilities_one_valid_tree)\n",
    "auc_roc_tree=roc_auc_score(valid_target,probabilities_one_valid_tree)\n",
    "auc_roc_tree"
   ]
  },
  {
   "cell_type": "code",
   "execution_count": 36,
   "metadata": {},
   "outputs": [
    {
     "data": {
      "text/plain": [
       "0.8295409178618308"
      ]
     },
     "execution_count": 36,
     "metadata": {},
     "output_type": "execute_result"
    }
   ],
   "source": [
    "probabilities_forest=model_forest.predict_proba(valid_features)\n",
    "probabilities_one_valid_forest=probabilities_forest[:,1]\n",
    "fpr_forest,tpr_forest,thresholds=roc_curve(valid_target,probabilities_one_valid_forest)\n",
    "auc_roc_forest=roc_auc_score(valid_target,probabilities_one_valid_forest)\n",
    "auc_roc_forest"
   ]
  },
  {
   "cell_type": "code",
   "execution_count": 37,
   "metadata": {},
   "outputs": [
    {
     "data": {
      "text/plain": [
       "0.7631216012678519"
      ]
     },
     "execution_count": 37,
     "metadata": {},
     "output_type": "execute_result"
    }
   ],
   "source": [
    "probabilities_reg=model_logistic.predict_proba(valid_features)\n",
    "probabilities_one_valid_reg=probabilities_reg[:,1]\n",
    "fpr_log,tpr_log,thresholds=roc_curve(valid_target,probabilities_one_valid_reg)\n",
    "auc_roc_reg=roc_auc_score(valid_target,probabilities_one_valid_reg)\n",
    "auc_roc_reg"
   ]
  },
  {
   "cell_type": "code",
   "execution_count": 38,
   "metadata": {},
   "outputs": [
    {
     "data": {
      "text/plain": [
       "<Figure size 432x288 with 0 Axes>"
      ]
     },
     "metadata": {},
     "output_type": "display_data"
    },
    {
     "data": {
      "image/png": "[encoded data removed]",
      "text/plain": [
       "<Figure size 720x504 with 1 Axes>"
      ]
     },
     "metadata": {
      "needs_background": "light"
     },
     "output_type": "display_data"
    }
   ],
   "source": [
    "plt.figure()\n",
    "\n",
    "plt.figure(figsize=(10,7))\n",
    "plt.plot([0, 1], [0, 1], linestyle='--')\n",
    "plt.xlim([0.0, 1.0])\n",
    "plt.ylim([0.0, 1.0])\n",
    "plt.plot(fpr_log,tpr_log)\n",
    "plt.plot(fpr_tree,tpr_tree)\n",
    "plt.plot(fpr_forest,tpr_forest)\n",
    "plt.xlabel('False Positive Rate')\n",
    "plt.ylabel('True Positive Rate')\n",
    "plt.title('ROC-кривая')\n",
    "plt.legend(('Случайная модель','RandomForest','Logistic','DecisionTree'),\n",
    "           loc= 'upper left') \n",
    "plt.show()"
   ]
  },
  {
   "cell_type": "markdown",
   "metadata": {},
   "source": [
    "Значение площади под кривой. На сколько наша модель отличается от случайной\n",
    "\n",
    "Лучшее значение метрики auc_roc=0.83 у модели RandomForest"
   ]
  },
  {
   "cell_type": "markdown",
   "metadata": {},
   "source": [
    "Общий вывод:"
   ]
  },
  {
   "cell_type": "code",
   "execution_count": 48,
   "metadata": {},
   "outputs": [
    {
     "data": {
      "text/html": [
       "<div>\n",
       "<style scoped>\n",
       "    .dataframe tbody tr th:only-of-type {\n",
       "        vertical-align: middle;\n",
       "    }\n",
       "\n",
       "    .dataframe tbody tr th {\n",
       "        vertical-align: top;\n",
       "    }\n",
       "\n",
       "    .dataframe thead th {\n",
       "        text-align: right;\n",
       "    }\n",
       "</style>\n",
       "<table border=\"1\" class=\"dataframe\">\n",
       "  <thead>\n",
       "    <tr style=\"text-align: right;\">\n",
       "      <th></th>\n",
       "      <th>DecisionTree</th>\n",
       "      <th>RandomForest</th>\n",
       "      <th>Logistic</th>\n",
       "    </tr>\n",
       "  </thead>\n",
       "  <tbody>\n",
       "    <tr>\n",
       "      <th>F1 без учета дисбаланса</th>\n",
       "      <td>0.511</td>\n",
       "      <td>0.535</td>\n",
       "      <td>0.126</td>\n",
       "    </tr>\n",
       "    <tr>\n",
       "      <th>F1 с учетом дисбаланса</th>\n",
       "      <td>0.574</td>\n",
       "      <td>0.611</td>\n",
       "      <td>0.485</td>\n",
       "    </tr>\n",
       "  </tbody>\n",
       "</table>\n",
       "</div>"
      ],
      "text/plain": [
       "                         DecisionTree  RandomForest  Logistic\n",
       "F1 без учета дисбаланса         0.511         0.535     0.126\n",
       "F1 с учетом дисбаланса          0.574         0.611     0.485"
      ]
     },
     "execution_count": 48,
     "metadata": {},
     "output_type": "execute_result"
    }
   ],
   "source": [
    "rezult1={'DecisionTree':np.array([0.511,0.574]),'RandomForest':np.array([0.535,0.611]),'Logistic':np.array([0.126,0.485])}\n",
    "rezult_df=pd.DataFrame(rezult1,index=['F1 без учета дисбаланса','F1 с учетом дисбаланса'])\n",
    "\n",
    "rezult_df"
   ]
  },
  {
   "cell_type": "markdown",
   "metadata": {},
   "source": [
    "Рассматривая данные с учетом дисбаланса + переведенные категориальные + стандартизированные данные и без учета дисбаланса тремя моделями можно сделать вывод, что самая лучшая модель оказалась Случайный лес.Не изменилась ситуация и после работы с дисбалансом (увеличения выборки). Для модели Случайный лес получилось увеличить показатели F1 (с 0,535 до 0,611) и auc_roc=0.763.\n",
    "Также по показателям F1 можно сделать вывод, что устранение дисбаланса приводит к улучшению результатов для всех моделей (для чего и проводится работа с дисбалансом)"
   ]
  },
  {
   "cell_type": "markdown",
   "metadata": {},
   "source": [
    "## Чек-лист готовности проекта"
   ]
  },
  {
   "cell_type": "markdown",
   "metadata": {},
   "source": [
    "Поставьте 'x' в выполненных пунктах. Далее нажмите Shift+Enter."
   ]
  },
  {
   "cell_type": "markdown",
   "metadata": {},
   "source": [
    "- [x]  Jupyter Notebook открыт\n",
    "- [x]  Весь код выполняется без ошибок\n",
    "- [x]  Ячейки с кодом расположены в порядке исполнения\n",
    "- [x]  Выполнен шаг 1: данные подготовлены\n",
    "- [x]  Выполнен шаг 2: задача исследована\n",
    "    - [x]  Исследован баланс классов\n",
    "    - [x]  Изучены модели без учёта дисбаланса\n",
    "    - [x]  Написаны выводы по результатам исследования\n",
    "- [x]  Выполнен шаг 3: учтён дисбаланс\n",
    "    - [x]  Применено несколько способов борьбы с дисбалансом\n",
    "    - [x]  Написаны выводы по результатам исследования\n",
    "- [x]  Выполнен шаг 4: проведено тестирование\n",
    "- [x]  Удалось достичь *F1*-меры не менее 0.59\n",
    "- [x]  Исследована метрика *AUC-ROC*"
   ]
  },
  {
   "cell_type": "code",
   "execution_count": null,
   "metadata": {},
   "outputs": [],
   "source": []
  }
 ],
 "metadata": {
  "ExecuteTimeLog": [
   {
    "duration": 54,
    "start_time": "2022-08-22T19:37:45.585Z"
   },
   {
    "duration": 1393,
    "start_time": "2022-08-22T19:37:53.910Z"
   },
   {
    "duration": 100,
    "start_time": "2022-08-22T19:37:55.306Z"
   },
   {
    "duration": 16,
    "start_time": "2022-08-22T19:37:55.408Z"
   },
   {
    "duration": 13,
    "start_time": "2022-08-22T19:37:55.426Z"
   },
   {
    "duration": 51,
    "start_time": "2022-08-22T19:38:44.220Z"
   },
   {
    "duration": 46,
    "start_time": "2022-08-22T19:38:58.273Z"
   },
   {
    "duration": 46,
    "start_time": "2022-08-23T20:34:38.836Z"
   },
   {
    "duration": 115,
    "start_time": "2022-08-23T20:35:18.425Z"
   },
   {
    "duration": 0,
    "start_time": "2022-08-23T20:35:18.542Z"
   },
   {
    "duration": 0,
    "start_time": "2022-08-23T20:35:18.543Z"
   },
   {
    "duration": 0,
    "start_time": "2022-08-23T20:35:18.544Z"
   },
   {
    "duration": 0,
    "start_time": "2022-08-23T20:35:18.546Z"
   },
   {
    "duration": 69,
    "start_time": "2022-08-23T20:39:04.645Z"
   },
   {
    "duration": 0,
    "start_time": "2022-08-23T20:39:04.716Z"
   },
   {
    "duration": 0,
    "start_time": "2022-08-23T20:39:04.718Z"
   },
   {
    "duration": 0,
    "start_time": "2022-08-23T20:39:04.720Z"
   },
   {
    "duration": 0,
    "start_time": "2022-08-23T20:39:04.721Z"
   },
   {
    "duration": 1743,
    "start_time": "2022-08-23T20:39:30.817Z"
   },
   {
    "duration": 101,
    "start_time": "2022-08-23T20:39:32.562Z"
   },
   {
    "duration": 14,
    "start_time": "2022-08-23T20:39:32.665Z"
   },
   {
    "duration": 4,
    "start_time": "2022-08-23T20:39:32.681Z"
   },
   {
    "duration": 9,
    "start_time": "2022-08-23T20:39:32.686Z"
   },
   {
    "duration": 71,
    "start_time": "2022-08-23T20:39:45.538Z"
   },
   {
    "duration": 72,
    "start_time": "2022-08-23T20:39:59.636Z"
   },
   {
    "duration": 63,
    "start_time": "2022-08-23T20:41:21.875Z"
   },
   {
    "duration": 7,
    "start_time": "2022-08-23T20:43:37.579Z"
   },
   {
    "duration": 21,
    "start_time": "2022-08-23T20:43:52.920Z"
   },
   {
    "duration": 16,
    "start_time": "2022-08-23T20:50:16.030Z"
   },
   {
    "duration": 15,
    "start_time": "2022-08-23T20:50:32.431Z"
   },
   {
    "duration": 129,
    "start_time": "2022-08-23T20:51:23.526Z"
   },
   {
    "duration": 56,
    "start_time": "2022-08-28T16:21:39.614Z"
   },
   {
    "duration": 1699,
    "start_time": "2022-08-28T16:21:47.947Z"
   },
   {
    "duration": 180,
    "start_time": "2022-08-28T16:21:49.648Z"
   },
   {
    "duration": 21,
    "start_time": "2022-08-28T16:21:49.829Z"
   },
   {
    "duration": 5,
    "start_time": "2022-08-28T16:21:49.853Z"
   },
   {
    "duration": 7,
    "start_time": "2022-08-28T16:21:49.861Z"
   },
   {
    "duration": 10,
    "start_time": "2022-08-28T16:21:49.870Z"
   },
   {
    "duration": 37,
    "start_time": "2022-08-28T16:21:49.882Z"
   },
   {
    "duration": 11,
    "start_time": "2022-08-28T16:21:49.921Z"
   },
   {
    "duration": 12,
    "start_time": "2022-08-28T16:21:49.935Z"
   },
   {
    "duration": 197,
    "start_time": "2022-08-28T16:21:49.951Z"
   },
   {
    "duration": 6,
    "start_time": "2022-08-28T16:21:50.151Z"
   },
   {
    "duration": 129,
    "start_time": "2022-08-28T16:22:58.603Z"
   },
   {
    "duration": 8,
    "start_time": "2022-08-28T16:23:30.619Z"
   },
   {
    "duration": 4,
    "start_time": "2022-08-28T16:40:43.677Z"
   },
   {
    "duration": 7,
    "start_time": "2022-08-28T16:40:56.493Z"
   },
   {
    "duration": 6,
    "start_time": "2022-08-28T16:42:23.898Z"
   },
   {
    "duration": 8,
    "start_time": "2022-08-28T16:42:48.609Z"
   },
   {
    "duration": 92,
    "start_time": "2022-08-28T16:44:29.831Z"
   },
   {
    "duration": 499,
    "start_time": "2022-08-28T16:44:38.825Z"
   },
   {
    "duration": 8,
    "start_time": "2022-08-28T16:44:48.640Z"
   },
   {
    "duration": 116,
    "start_time": "2022-08-28T16:55:16.918Z"
   },
   {
    "duration": 4,
    "start_time": "2022-08-28T16:57:44.542Z"
   },
   {
    "duration": 1509,
    "start_time": "2022-08-28T16:57:52.084Z"
   },
   {
    "duration": 57,
    "start_time": "2022-08-28T16:57:53.595Z"
   },
   {
    "duration": 18,
    "start_time": "2022-08-28T16:57:53.654Z"
   },
   {
    "duration": 5,
    "start_time": "2022-08-28T16:57:53.674Z"
   },
   {
    "duration": 7,
    "start_time": "2022-08-28T16:57:53.681Z"
   },
   {
    "duration": 13,
    "start_time": "2022-08-28T16:57:53.690Z"
   },
   {
    "duration": 24,
    "start_time": "2022-08-28T16:57:53.706Z"
   },
   {
    "duration": 10,
    "start_time": "2022-08-28T16:57:53.732Z"
   },
   {
    "duration": 6,
    "start_time": "2022-08-28T16:57:53.744Z"
   },
   {
    "duration": 164,
    "start_time": "2022-08-28T16:57:53.751Z"
   },
   {
    "duration": 6,
    "start_time": "2022-08-28T16:57:53.916Z"
   },
   {
    "duration": 190,
    "start_time": "2022-08-28T16:57:53.924Z"
   },
   {
    "duration": 7,
    "start_time": "2022-08-28T16:57:54.116Z"
   },
   {
    "duration": 11,
    "start_time": "2022-08-28T16:57:54.126Z"
   },
   {
    "duration": 5,
    "start_time": "2022-08-28T16:57:54.139Z"
   },
   {
    "duration": 9,
    "start_time": "2022-08-28T16:57:54.145Z"
   },
   {
    "duration": 11,
    "start_time": "2022-08-28T16:57:54.155Z"
   },
   {
    "duration": 47,
    "start_time": "2022-08-28T16:57:54.168Z"
   },
   {
    "duration": 10,
    "start_time": "2022-08-28T17:04:55.450Z"
   },
   {
    "duration": 113,
    "start_time": "2022-08-28T17:14:36.911Z"
   },
   {
    "duration": 1480,
    "start_time": "2022-08-28T17:14:46.400Z"
   },
   {
    "duration": 58,
    "start_time": "2022-08-28T17:14:47.882Z"
   },
   {
    "duration": 17,
    "start_time": "2022-08-28T17:14:47.941Z"
   },
   {
    "duration": 4,
    "start_time": "2022-08-28T17:14:47.960Z"
   },
   {
    "duration": 8,
    "start_time": "2022-08-28T17:14:47.966Z"
   },
   {
    "duration": 8,
    "start_time": "2022-08-28T17:14:47.976Z"
   },
   {
    "duration": 26,
    "start_time": "2022-08-28T17:14:47.991Z"
   },
   {
    "duration": 9,
    "start_time": "2022-08-28T17:14:48.021Z"
   },
   {
    "duration": 8,
    "start_time": "2022-08-28T17:14:48.032Z"
   },
   {
    "duration": 159,
    "start_time": "2022-08-28T17:14:48.041Z"
   },
   {
    "duration": 6,
    "start_time": "2022-08-28T17:14:48.201Z"
   },
   {
    "duration": 151,
    "start_time": "2022-08-28T17:14:48.208Z"
   },
   {
    "duration": 10,
    "start_time": "2022-08-28T17:14:48.360Z"
   },
   {
    "duration": 22,
    "start_time": "2022-08-28T17:14:48.373Z"
   },
   {
    "duration": 7,
    "start_time": "2022-08-28T17:14:48.397Z"
   },
   {
    "duration": 38,
    "start_time": "2022-08-28T17:14:48.407Z"
   },
   {
    "duration": 3,
    "start_time": "2022-08-28T17:14:48.447Z"
   },
   {
    "duration": 153,
    "start_time": "2022-08-28T17:14:48.452Z"
   },
   {
    "duration": 0,
    "start_time": "2022-08-28T17:14:48.607Z"
   },
   {
    "duration": 27,
    "start_time": "2022-08-28T17:15:26.332Z"
   },
   {
    "duration": 10,
    "start_time": "2022-08-28T17:16:44.058Z"
   },
   {
    "duration": 12,
    "start_time": "2022-08-28T17:21:07.300Z"
   },
   {
    "duration": 1600,
    "start_time": "2022-08-28T17:22:59.820Z"
   },
   {
    "duration": 58,
    "start_time": "2022-08-28T17:23:01.422Z"
   },
   {
    "duration": 15,
    "start_time": "2022-08-28T17:23:01.481Z"
   },
   {
    "duration": 9,
    "start_time": "2022-08-28T17:23:01.498Z"
   },
   {
    "duration": 12,
    "start_time": "2022-08-28T17:23:01.509Z"
   },
   {
    "duration": 17,
    "start_time": "2022-08-28T17:23:01.523Z"
   },
   {
    "duration": 27,
    "start_time": "2022-08-28T17:23:01.541Z"
   },
   {
    "duration": 10,
    "start_time": "2022-08-28T17:23:01.570Z"
   },
   {
    "duration": 12,
    "start_time": "2022-08-28T17:23:01.582Z"
   },
   {
    "duration": 149,
    "start_time": "2022-08-28T17:23:01.596Z"
   },
   {
    "duration": 6,
    "start_time": "2022-08-28T17:23:01.747Z"
   },
   {
    "duration": 237,
    "start_time": "2022-08-28T17:23:01.755Z"
   },
   {
    "duration": 21,
    "start_time": "2022-08-28T17:23:01.995Z"
   },
   {
    "duration": 30,
    "start_time": "2022-08-28T17:23:02.020Z"
   },
   {
    "duration": 35,
    "start_time": "2022-08-28T17:23:02.052Z"
   },
   {
    "duration": 79,
    "start_time": "2022-08-28T17:23:02.089Z"
   },
   {
    "duration": 10,
    "start_time": "2022-08-28T17:23:02.171Z"
   },
   {
    "duration": 236,
    "start_time": "2022-08-28T17:23:02.183Z"
   },
   {
    "duration": 224,
    "start_time": "2022-08-28T17:23:43.184Z"
   },
   {
    "duration": 111,
    "start_time": "2022-08-28T18:22:14.519Z"
   },
   {
    "duration": 1480,
    "start_time": "2022-08-28T18:23:04.603Z"
   },
   {
    "duration": 55,
    "start_time": "2022-08-28T18:23:06.085Z"
   },
   {
    "duration": 13,
    "start_time": "2022-08-28T18:23:06.142Z"
   },
   {
    "duration": 5,
    "start_time": "2022-08-28T18:23:06.157Z"
   },
   {
    "duration": 3,
    "start_time": "2022-08-28T18:23:06.164Z"
   },
   {
    "duration": 9,
    "start_time": "2022-08-28T18:23:06.169Z"
   },
   {
    "duration": 27,
    "start_time": "2022-08-28T18:23:06.180Z"
   },
   {
    "duration": 9,
    "start_time": "2022-08-28T18:23:06.209Z"
   },
   {
    "duration": 35,
    "start_time": "2022-08-28T18:23:06.220Z"
   },
   {
    "duration": 154,
    "start_time": "2022-08-28T18:23:06.256Z"
   },
   {
    "duration": 5,
    "start_time": "2022-08-28T18:23:06.412Z"
   },
   {
    "duration": 134,
    "start_time": "2022-08-28T18:23:06.419Z"
   },
   {
    "duration": 8,
    "start_time": "2022-08-28T18:23:06.555Z"
   },
   {
    "duration": 9,
    "start_time": "2022-08-28T18:23:06.565Z"
   },
   {
    "duration": 21,
    "start_time": "2022-08-28T18:23:06.576Z"
   },
   {
    "duration": 40,
    "start_time": "2022-08-28T18:23:06.599Z"
   },
   {
    "duration": 8,
    "start_time": "2022-08-28T18:23:06.641Z"
   },
   {
    "duration": 248,
    "start_time": "2022-08-28T18:23:06.651Z"
   },
   {
    "duration": 7261,
    "start_time": "2022-08-28T18:23:06.900Z"
   },
   {
    "duration": 3,
    "start_time": "2022-08-28T18:32:16.981Z"
   },
   {
    "duration": 12898,
    "start_time": "2022-08-28T18:34:18.082Z"
   },
   {
    "duration": 6609,
    "start_time": "2022-08-28T18:34:31.833Z"
   },
   {
    "duration": 12898,
    "start_time": "2022-08-28T18:34:50.089Z"
   },
   {
    "duration": 6703,
    "start_time": "2022-08-28T18:35:58.815Z"
   },
   {
    "duration": 1620,
    "start_time": "2022-08-28T18:39:48.717Z"
   },
   {
    "duration": 62,
    "start_time": "2022-08-28T18:39:50.340Z"
   },
   {
    "duration": 19,
    "start_time": "2022-08-28T18:39:50.404Z"
   },
   {
    "duration": 5,
    "start_time": "2022-08-28T18:39:50.425Z"
   },
   {
    "duration": 9,
    "start_time": "2022-08-28T18:39:50.434Z"
   },
   {
    "duration": 12,
    "start_time": "2022-08-28T18:39:50.446Z"
   },
   {
    "duration": 61,
    "start_time": "2022-08-28T18:39:50.460Z"
   },
   {
    "duration": 13,
    "start_time": "2022-08-28T18:39:50.523Z"
   },
   {
    "duration": 15,
    "start_time": "2022-08-28T18:39:50.538Z"
   },
   {
    "duration": 163,
    "start_time": "2022-08-28T18:39:50.556Z"
   },
   {
    "duration": 5,
    "start_time": "2022-08-28T18:39:50.721Z"
   },
   {
    "duration": 148,
    "start_time": "2022-08-28T18:39:50.728Z"
   },
   {
    "duration": 15,
    "start_time": "2022-08-28T18:39:50.878Z"
   },
   {
    "duration": 6,
    "start_time": "2022-08-28T18:39:50.896Z"
   },
   {
    "duration": 18,
    "start_time": "2022-08-28T18:39:50.904Z"
   },
   {
    "duration": 44,
    "start_time": "2022-08-28T18:39:50.925Z"
   },
   {
    "duration": 27,
    "start_time": "2022-08-28T18:39:50.971Z"
   },
   {
    "duration": 270,
    "start_time": "2022-08-28T18:39:51.000Z"
   },
   {
    "duration": 7708,
    "start_time": "2022-08-28T18:39:51.272Z"
   },
   {
    "duration": 7392,
    "start_time": "2022-08-28T18:39:58.982Z"
   },
   {
    "duration": 865,
    "start_time": "2022-08-28T18:45:39.941Z"
   },
   {
    "duration": 5,
    "start_time": "2022-08-28T18:52:49.350Z"
   },
   {
    "duration": 12,
    "start_time": "2022-08-28T18:53:05.628Z"
   },
   {
    "duration": 820,
    "start_time": "2022-08-28T19:25:21.960Z"
   },
   {
    "duration": 783,
    "start_time": "2022-08-28T19:26:12.786Z"
   },
   {
    "duration": 8052,
    "start_time": "2022-08-28T19:31:15.063Z"
   },
   {
    "duration": 7009,
    "start_time": "2022-08-28T19:31:23.124Z"
   },
   {
    "duration": 5845,
    "start_time": "2022-08-28T19:32:24.221Z"
   },
   {
    "duration": 6557,
    "start_time": "2022-08-28T19:42:40.975Z"
   },
   {
    "duration": 605,
    "start_time": "2022-08-28T19:44:13.271Z"
   },
   {
    "duration": 183,
    "start_time": "2022-08-28T19:44:43.811Z"
   },
   {
    "duration": 562,
    "start_time": "2022-08-28T19:52:33.850Z"
   },
   {
    "duration": 557,
    "start_time": "2022-08-28T19:52:57.554Z"
   },
   {
    "duration": 998,
    "start_time": "2022-08-28T19:55:36.416Z"
   },
   {
    "duration": 9,
    "start_time": "2022-08-28T20:07:39.249Z"
   },
   {
    "duration": 34,
    "start_time": "2022-08-28T20:08:25.456Z"
   },
   {
    "duration": 12,
    "start_time": "2022-08-28T20:08:41.138Z"
   },
   {
    "duration": 30,
    "start_time": "2022-08-28T20:09:30.722Z"
   },
   {
    "duration": 4,
    "start_time": "2022-08-28T20:09:31.510Z"
   },
   {
    "duration": 4,
    "start_time": "2022-08-28T20:09:32.107Z"
   },
   {
    "duration": 35,
    "start_time": "2022-08-28T20:09:56.476Z"
   },
   {
    "duration": 248,
    "start_time": "2022-08-28T20:11:51.954Z"
   },
   {
    "duration": 3,
    "start_time": "2022-08-28T20:18:43.737Z"
   },
   {
    "duration": 520,
    "start_time": "2022-08-28T20:19:13.645Z"
   },
   {
    "duration": 428,
    "start_time": "2022-08-28T20:21:26.523Z"
   },
   {
    "duration": 574,
    "start_time": "2022-08-28T20:22:45.028Z"
   },
   {
    "duration": 1636,
    "start_time": "2022-08-28T20:23:16.760Z"
   },
   {
    "duration": 96,
    "start_time": "2022-08-28T20:23:18.398Z"
   },
   {
    "duration": 13,
    "start_time": "2022-08-28T20:23:18.496Z"
   },
   {
    "duration": 3,
    "start_time": "2022-08-28T20:23:18.511Z"
   },
   {
    "duration": 4,
    "start_time": "2022-08-28T20:23:18.516Z"
   },
   {
    "duration": 7,
    "start_time": "2022-08-28T20:23:18.521Z"
   },
   {
    "duration": 26,
    "start_time": "2022-08-28T20:23:18.530Z"
   },
   {
    "duration": 8,
    "start_time": "2022-08-28T20:23:18.558Z"
   },
   {
    "duration": 29,
    "start_time": "2022-08-28T20:23:18.567Z"
   },
   {
    "duration": 152,
    "start_time": "2022-08-28T20:23:18.599Z"
   },
   {
    "duration": 6,
    "start_time": "2022-08-28T20:23:18.752Z"
   },
   {
    "duration": 134,
    "start_time": "2022-08-28T20:23:18.759Z"
   },
   {
    "duration": 7,
    "start_time": "2022-08-28T20:23:18.895Z"
   },
   {
    "duration": 5,
    "start_time": "2022-08-28T20:23:18.903Z"
   },
   {
    "duration": 5,
    "start_time": "2022-08-28T20:23:18.910Z"
   },
   {
    "duration": 28,
    "start_time": "2022-08-28T20:23:18.917Z"
   },
   {
    "duration": 8,
    "start_time": "2022-08-28T20:23:18.946Z"
   },
   {
    "duration": 258,
    "start_time": "2022-08-28T20:23:18.955Z"
   },
   {
    "duration": 6911,
    "start_time": "2022-08-28T20:23:19.214Z"
   },
   {
    "duration": 6298,
    "start_time": "2022-08-28T20:23:26.127Z"
   },
   {
    "duration": 411,
    "start_time": "2022-08-28T20:23:32.426Z"
   },
   {
    "duration": 853,
    "start_time": "2022-08-28T20:23:32.839Z"
   },
   {
    "duration": 209,
    "start_time": "2022-08-28T20:23:33.695Z"
   },
   {
    "duration": 0,
    "start_time": "2022-08-28T20:23:33.906Z"
   },
   {
    "duration": 0,
    "start_time": "2022-08-28T20:23:33.906Z"
   },
   {
    "duration": 0,
    "start_time": "2022-08-28T20:23:33.908Z"
   },
   {
    "duration": 0,
    "start_time": "2022-08-28T20:23:33.909Z"
   },
   {
    "duration": 0,
    "start_time": "2022-08-28T20:23:33.911Z"
   },
   {
    "duration": 0,
    "start_time": "2022-08-28T20:23:33.912Z"
   },
   {
    "duration": 0,
    "start_time": "2022-08-28T20:23:33.913Z"
   },
   {
    "duration": 0,
    "start_time": "2022-08-28T20:23:33.914Z"
   },
   {
    "duration": 0,
    "start_time": "2022-08-28T20:23:33.915Z"
   },
   {
    "duration": 0,
    "start_time": "2022-08-28T20:23:33.916Z"
   },
   {
    "duration": 0,
    "start_time": "2022-08-28T20:23:33.917Z"
   },
   {
    "duration": 0,
    "start_time": "2022-08-28T20:23:33.918Z"
   },
   {
    "duration": 1493,
    "start_time": "2022-08-28T20:27:58.526Z"
   },
   {
    "duration": 60,
    "start_time": "2022-08-28T20:28:00.022Z"
   },
   {
    "duration": 14,
    "start_time": "2022-08-28T20:28:00.084Z"
   },
   {
    "duration": 5,
    "start_time": "2022-08-28T20:28:00.101Z"
   },
   {
    "duration": 12,
    "start_time": "2022-08-28T20:28:00.108Z"
   },
   {
    "duration": 20,
    "start_time": "2022-08-28T20:28:00.122Z"
   },
   {
    "duration": 50,
    "start_time": "2022-08-28T20:28:00.144Z"
   },
   {
    "duration": 18,
    "start_time": "2022-08-28T20:28:00.196Z"
   },
   {
    "duration": 8,
    "start_time": "2022-08-28T20:28:00.216Z"
   },
   {
    "duration": 161,
    "start_time": "2022-08-28T20:28:00.228Z"
   },
   {
    "duration": 5,
    "start_time": "2022-08-28T20:28:00.392Z"
   },
   {
    "duration": 145,
    "start_time": "2022-08-28T20:28:00.399Z"
   },
   {
    "duration": 7,
    "start_time": "2022-08-28T20:28:00.546Z"
   },
   {
    "duration": 28,
    "start_time": "2022-08-28T20:28:00.555Z"
   },
   {
    "duration": 17,
    "start_time": "2022-08-28T20:28:00.585Z"
   },
   {
    "duration": 34,
    "start_time": "2022-08-28T20:28:00.604Z"
   },
   {
    "duration": 7,
    "start_time": "2022-08-28T20:28:00.640Z"
   },
   {
    "duration": 235,
    "start_time": "2022-08-28T20:28:00.649Z"
   },
   {
    "duration": 7168,
    "start_time": "2022-08-28T20:28:00.891Z"
   },
   {
    "duration": 6501,
    "start_time": "2022-08-28T20:28:08.060Z"
   },
   {
    "duration": 3033,
    "start_time": "2022-08-28T20:28:14.563Z"
   },
   {
    "duration": 93,
    "start_time": "2022-08-28T20:28:17.599Z"
   },
   {
    "duration": 14,
    "start_time": "2022-08-28T20:28:17.694Z"
   },
   {
    "duration": 950,
    "start_time": "2022-08-28T20:28:17.710Z"
   },
   {
    "duration": 7187,
    "start_time": "2022-08-28T20:28:18.662Z"
   },
   {
    "duration": 5073,
    "start_time": "2022-08-28T20:28:25.851Z"
   },
   {
    "duration": 69,
    "start_time": "2022-08-28T20:28:30.926Z"
   },
   {
    "duration": 99,
    "start_time": "2022-08-28T20:28:31.003Z"
   },
   {
    "duration": 38,
    "start_time": "2022-08-28T20:28:31.192Z"
   },
   {
    "duration": 161,
    "start_time": "2022-08-28T20:28:31.232Z"
   },
   {
    "duration": 201,
    "start_time": "2022-08-28T20:28:31.395Z"
   },
   {
    "duration": 4,
    "start_time": "2022-08-28T20:28:31.598Z"
   },
   {
    "duration": 4534,
    "start_time": "2022-08-28T20:31:15.778Z"
   },
   {
    "duration": 4450,
    "start_time": "2022-08-28T20:35:52.739Z"
   },
   {
    "duration": 4,
    "start_time": "2022-08-28T20:40:18.761Z"
   },
   {
    "duration": 10,
    "start_time": "2022-08-28T20:40:38.553Z"
   },
   {
    "duration": 5,
    "start_time": "2022-08-28T20:51:51.473Z"
   },
   {
    "duration": 12,
    "start_time": "2022-08-28T20:52:29.053Z"
   },
   {
    "duration": 191,
    "start_time": "2022-08-28T20:56:13.102Z"
   },
   {
    "duration": 12,
    "start_time": "2022-08-28T20:57:12.845Z"
   },
   {
    "duration": 82,
    "start_time": "2022-08-28T20:57:17.752Z"
   },
   {
    "duration": 1482,
    "start_time": "2022-08-28T20:57:24.928Z"
   },
   {
    "duration": 59,
    "start_time": "2022-08-28T20:57:26.412Z"
   },
   {
    "duration": 15,
    "start_time": "2022-08-28T20:57:26.472Z"
   },
   {
    "duration": 4,
    "start_time": "2022-08-28T20:57:26.490Z"
   },
   {
    "duration": 17,
    "start_time": "2022-08-28T20:57:26.496Z"
   },
   {
    "duration": 10,
    "start_time": "2022-08-28T20:57:26.515Z"
   },
   {
    "duration": 23,
    "start_time": "2022-08-28T20:57:26.528Z"
   },
   {
    "duration": 19,
    "start_time": "2022-08-28T20:57:26.553Z"
   },
   {
    "duration": 19,
    "start_time": "2022-08-28T20:57:26.574Z"
   },
   {
    "duration": 165,
    "start_time": "2022-08-28T20:57:26.596Z"
   },
   {
    "duration": 6,
    "start_time": "2022-08-28T20:57:26.763Z"
   },
   {
    "duration": 172,
    "start_time": "2022-08-28T20:57:26.771Z"
   },
   {
    "duration": 8,
    "start_time": "2022-08-28T20:57:26.945Z"
   },
   {
    "duration": 23,
    "start_time": "2022-08-28T20:57:26.955Z"
   },
   {
    "duration": 22,
    "start_time": "2022-08-28T20:57:26.980Z"
   },
   {
    "duration": 42,
    "start_time": "2022-08-28T20:57:27.004Z"
   },
   {
    "duration": 8,
    "start_time": "2022-08-28T20:57:27.048Z"
   },
   {
    "duration": 248,
    "start_time": "2022-08-28T20:57:27.057Z"
   },
   {
    "duration": 7422,
    "start_time": "2022-08-28T20:57:27.307Z"
   },
   {
    "duration": 4601,
    "start_time": "2022-08-28T20:57:34.731Z"
   },
   {
    "duration": 1158,
    "start_time": "2022-08-28T20:57:39.334Z"
   },
   {
    "duration": 8,
    "start_time": "2022-08-28T20:57:40.495Z"
   },
   {
    "duration": 115,
    "start_time": "2022-08-28T20:57:40.505Z"
   },
   {
    "duration": 5,
    "start_time": "2022-08-28T20:57:40.622Z"
   },
   {
    "duration": 22,
    "start_time": "2022-08-28T20:57:40.629Z"
   },
   {
    "duration": 195,
    "start_time": "2022-08-28T20:57:40.653Z"
   },
   {
    "duration": 78,
    "start_time": "2022-08-28T20:57:40.850Z"
   },
   {
    "duration": 7527,
    "start_time": "2022-08-28T20:57:40.932Z"
   },
   {
    "duration": 4762,
    "start_time": "2022-08-28T20:57:48.461Z"
   },
   {
    "duration": 94,
    "start_time": "2022-08-28T20:57:53.225Z"
   },
   {
    "duration": 11,
    "start_time": "2022-08-28T20:57:53.321Z"
   },
   {
    "duration": 35,
    "start_time": "2022-08-28T20:57:53.333Z"
   },
   {
    "duration": 122,
    "start_time": "2022-08-28T20:57:53.370Z"
   },
   {
    "duration": 267,
    "start_time": "2022-08-28T20:57:53.495Z"
   },
   {
    "duration": 10,
    "start_time": "2022-08-28T20:57:53.764Z"
   },
   {
    "duration": 84,
    "start_time": "2022-08-28T20:59:33.426Z"
   },
   {
    "duration": 1546,
    "start_time": "2022-08-28T20:59:56.678Z"
   },
   {
    "duration": 58,
    "start_time": "2022-08-28T20:59:58.227Z"
   },
   {
    "duration": 19,
    "start_time": "2022-08-28T20:59:58.287Z"
   },
   {
    "duration": 5,
    "start_time": "2022-08-28T20:59:58.309Z"
   },
   {
    "duration": 7,
    "start_time": "2022-08-28T20:59:58.316Z"
   },
   {
    "duration": 16,
    "start_time": "2022-08-28T20:59:58.326Z"
   },
   {
    "duration": 25,
    "start_time": "2022-08-28T20:59:58.344Z"
   },
   {
    "duration": 28,
    "start_time": "2022-08-28T20:59:58.371Z"
   },
   {
    "duration": 7,
    "start_time": "2022-08-28T20:59:58.401Z"
   },
   {
    "duration": 163,
    "start_time": "2022-08-28T20:59:58.411Z"
   },
   {
    "duration": 15,
    "start_time": "2022-08-28T20:59:58.576Z"
   },
   {
    "duration": 156,
    "start_time": "2022-08-28T20:59:58.594Z"
   },
   {
    "duration": 9,
    "start_time": "2022-08-28T20:59:58.751Z"
   },
   {
    "duration": 12,
    "start_time": "2022-08-28T20:59:58.762Z"
   },
   {
    "duration": 17,
    "start_time": "2022-08-28T20:59:58.776Z"
   },
   {
    "duration": 51,
    "start_time": "2022-08-28T20:59:58.795Z"
   },
   {
    "duration": 8,
    "start_time": "2022-08-28T20:59:58.849Z"
   },
   {
    "duration": 302,
    "start_time": "2022-08-28T20:59:58.859Z"
   },
   {
    "duration": 7576,
    "start_time": "2022-08-28T20:59:59.163Z"
   },
   {
    "duration": 4665,
    "start_time": "2022-08-28T21:00:06.740Z"
   },
   {
    "duration": 1193,
    "start_time": "2022-08-28T21:00:11.406Z"
   },
   {
    "duration": 91,
    "start_time": "2022-08-28T21:00:12.602Z"
   },
   {
    "duration": 109,
    "start_time": "2022-08-28T21:00:12.695Z"
   },
   {
    "duration": 944,
    "start_time": "2022-08-28T21:00:12.807Z"
   },
   {
    "duration": 198,
    "start_time": "2022-08-28T21:00:13.753Z"
   },
   {
    "duration": 7150,
    "start_time": "2022-08-28T21:00:13.954Z"
   },
   {
    "duration": 4623,
    "start_time": "2022-08-28T21:00:21.106Z"
   },
   {
    "duration": 261,
    "start_time": "2022-08-28T21:00:25.732Z"
   },
   {
    "duration": 12,
    "start_time": "2022-08-28T21:00:25.995Z"
   },
   {
    "duration": 33,
    "start_time": "2022-08-28T21:00:26.009Z"
   },
   {
    "duration": 60,
    "start_time": "2022-08-28T21:00:26.043Z"
   },
   {
    "duration": 319,
    "start_time": "2022-08-28T21:00:26.105Z"
   },
   {
    "duration": 9,
    "start_time": "2022-08-28T21:00:26.426Z"
   },
   {
    "duration": 1513,
    "start_time": "2022-08-28T21:00:55.642Z"
   },
   {
    "duration": 72,
    "start_time": "2022-08-28T21:00:57.157Z"
   },
   {
    "duration": 21,
    "start_time": "2022-08-28T21:00:57.231Z"
   },
   {
    "duration": 5,
    "start_time": "2022-08-28T21:00:57.256Z"
   },
   {
    "duration": 5,
    "start_time": "2022-08-28T21:00:57.263Z"
   },
   {
    "duration": 25,
    "start_time": "2022-08-28T21:00:57.270Z"
   },
   {
    "duration": 24,
    "start_time": "2022-08-28T21:00:57.297Z"
   },
   {
    "duration": 10,
    "start_time": "2022-08-28T21:00:57.322Z"
   },
   {
    "duration": 6,
    "start_time": "2022-08-28T21:00:57.334Z"
   },
   {
    "duration": 181,
    "start_time": "2022-08-28T21:00:57.343Z"
   },
   {
    "duration": 5,
    "start_time": "2022-08-28T21:00:57.526Z"
   },
   {
    "duration": 148,
    "start_time": "2022-08-28T21:00:57.533Z"
   },
   {
    "duration": 15,
    "start_time": "2022-08-28T21:00:57.683Z"
   },
   {
    "duration": 10,
    "start_time": "2022-08-28T21:00:57.700Z"
   },
   {
    "duration": 17,
    "start_time": "2022-08-28T21:00:57.712Z"
   },
   {
    "duration": 33,
    "start_time": "2022-08-28T21:00:57.731Z"
   },
   {
    "duration": 8,
    "start_time": "2022-08-28T21:00:57.766Z"
   },
   {
    "duration": 252,
    "start_time": "2022-08-28T21:00:57.792Z"
   },
   {
    "duration": 7580,
    "start_time": "2022-08-28T21:00:58.046Z"
   },
   {
    "duration": 4772,
    "start_time": "2022-08-28T21:01:05.629Z"
   },
   {
    "duration": 593,
    "start_time": "2022-08-28T21:01:10.403Z"
   },
   {
    "duration": 93,
    "start_time": "2022-08-28T21:01:10.999Z"
   },
   {
    "duration": 21,
    "start_time": "2022-08-28T21:01:11.095Z"
   },
   {
    "duration": 1037,
    "start_time": "2022-08-28T21:01:11.118Z"
   },
   {
    "duration": 7203,
    "start_time": "2022-08-28T21:01:12.157Z"
   },
   {
    "duration": 4497,
    "start_time": "2022-08-28T21:01:19.363Z"
   },
   {
    "duration": 67,
    "start_time": "2022-08-28T21:01:23.862Z"
   },
   {
    "duration": 66,
    "start_time": "2022-08-28T21:01:23.934Z"
   },
   {
    "duration": 124,
    "start_time": "2022-08-28T21:01:24.002Z"
   },
   {
    "duration": 64,
    "start_time": "2022-08-28T21:01:24.128Z"
   },
   {
    "duration": 278,
    "start_time": "2022-08-28T21:01:24.194Z"
   },
   {
    "duration": 9,
    "start_time": "2022-08-28T21:01:24.474Z"
   },
   {
    "duration": 6516,
    "start_time": "2022-08-28T21:04:36.796Z"
   },
   {
    "duration": 6478,
    "start_time": "2022-08-28T21:05:55.736Z"
   },
   {
    "duration": 7327,
    "start_time": "2022-08-28T21:06:08.882Z"
   },
   {
    "duration": 6401,
    "start_time": "2022-08-28T21:06:41.343Z"
   },
   {
    "duration": 5546,
    "start_time": "2022-08-28T21:09:01.799Z"
   },
   {
    "duration": 4,
    "start_time": "2022-08-28T21:10:34.210Z"
   },
   {
    "duration": 9,
    "start_time": "2022-08-28T21:10:34.980Z"
   },
   {
    "duration": 877,
    "start_time": "2022-08-28T21:10:42.550Z"
   },
   {
    "duration": 224,
    "start_time": "2022-08-28T21:11:23.298Z"
   },
   {
    "duration": 1492,
    "start_time": "2022-08-28T21:12:03.952Z"
   },
   {
    "duration": 57,
    "start_time": "2022-08-28T21:12:05.447Z"
   },
   {
    "duration": 15,
    "start_time": "2022-08-28T21:12:05.506Z"
   },
   {
    "duration": 4,
    "start_time": "2022-08-28T21:12:05.523Z"
   },
   {
    "duration": 8,
    "start_time": "2022-08-28T21:12:05.528Z"
   },
   {
    "duration": 11,
    "start_time": "2022-08-28T21:12:05.538Z"
   },
   {
    "duration": 42,
    "start_time": "2022-08-28T21:12:05.551Z"
   },
   {
    "duration": 9,
    "start_time": "2022-08-28T21:12:05.595Z"
   },
   {
    "duration": 6,
    "start_time": "2022-08-28T21:12:05.606Z"
   },
   {
    "duration": 159,
    "start_time": "2022-08-28T21:12:05.615Z"
   },
   {
    "duration": 18,
    "start_time": "2022-08-28T21:12:05.775Z"
   },
   {
    "duration": 134,
    "start_time": "2022-08-28T21:12:05.794Z"
   },
   {
    "duration": 7,
    "start_time": "2022-08-28T21:12:05.930Z"
   },
   {
    "duration": 9,
    "start_time": "2022-08-28T21:12:05.938Z"
   },
   {
    "duration": 9,
    "start_time": "2022-08-28T21:12:05.948Z"
   },
   {
    "duration": 55,
    "start_time": "2022-08-28T21:12:05.959Z"
   },
   {
    "duration": 8,
    "start_time": "2022-08-28T21:12:06.016Z"
   },
   {
    "duration": 237,
    "start_time": "2022-08-28T21:12:06.026Z"
   },
   {
    "duration": 7268,
    "start_time": "2022-08-28T21:12:06.264Z"
   },
   {
    "duration": 6342,
    "start_time": "2022-08-28T21:12:13.534Z"
   },
   {
    "duration": 1015,
    "start_time": "2022-08-28T21:12:19.878Z"
   },
   {
    "duration": 98,
    "start_time": "2022-08-28T21:12:20.895Z"
   },
   {
    "duration": 11,
    "start_time": "2022-08-28T21:12:20.994Z"
   },
   {
    "duration": 961,
    "start_time": "2022-08-28T21:12:21.006Z"
   },
   {
    "duration": 6945,
    "start_time": "2022-08-28T21:12:21.969Z"
   },
   {
    "duration": 5533,
    "start_time": "2022-08-28T21:12:28.916Z"
   },
   {
    "duration": 65,
    "start_time": "2022-08-28T21:12:34.451Z"
   },
   {
    "duration": 176,
    "start_time": "2022-08-28T21:12:34.519Z"
   },
   {
    "duration": 37,
    "start_time": "2022-08-28T21:12:34.697Z"
   },
   {
    "duration": 65,
    "start_time": "2022-08-28T21:12:34.735Z"
   },
   {
    "duration": 231,
    "start_time": "2022-08-28T21:12:34.893Z"
   },
   {
    "duration": 11,
    "start_time": "2022-08-28T21:12:35.126Z"
   },
   {
    "duration": 5980,
    "start_time": "2022-08-28T21:13:59.911Z"
   },
   {
    "duration": 5465,
    "start_time": "2022-08-28T21:17:33.656Z"
   },
   {
    "duration": 11,
    "start_time": "2022-08-28T21:19:24.542Z"
   },
   {
    "duration": 1686,
    "start_time": "2022-08-29T14:25:32.283Z"
   },
   {
    "duration": 103,
    "start_time": "2022-08-29T14:25:33.971Z"
   },
   {
    "duration": 13,
    "start_time": "2022-08-29T14:25:34.076Z"
   },
   {
    "duration": 8,
    "start_time": "2022-08-29T14:25:34.091Z"
   },
   {
    "duration": 4,
    "start_time": "2022-08-29T14:25:34.101Z"
   },
   {
    "duration": 6,
    "start_time": "2022-08-29T14:25:34.107Z"
   },
   {
    "duration": 22,
    "start_time": "2022-08-29T14:25:34.115Z"
   },
   {
    "duration": 9,
    "start_time": "2022-08-29T14:25:34.139Z"
   },
   {
    "duration": 6,
    "start_time": "2022-08-29T14:25:34.150Z"
   },
   {
    "duration": 160,
    "start_time": "2022-08-29T14:25:34.158Z"
   },
   {
    "duration": 5,
    "start_time": "2022-08-29T14:25:34.320Z"
   },
   {
    "duration": 161,
    "start_time": "2022-08-29T14:25:34.327Z"
   },
   {
    "duration": 7,
    "start_time": "2022-08-29T14:25:34.490Z"
   },
   {
    "duration": 26,
    "start_time": "2022-08-29T14:25:34.503Z"
   },
   {
    "duration": 23,
    "start_time": "2022-08-29T14:25:34.531Z"
   },
   {
    "duration": 50,
    "start_time": "2022-08-29T14:25:34.556Z"
   },
   {
    "duration": 7,
    "start_time": "2022-08-29T14:25:34.608Z"
   },
   {
    "duration": 201,
    "start_time": "2022-08-29T14:25:34.617Z"
   },
   {
    "duration": 6490,
    "start_time": "2022-08-29T14:25:34.820Z"
   },
   {
    "duration": 5323,
    "start_time": "2022-08-29T14:25:41.312Z"
   },
   {
    "duration": 267,
    "start_time": "2022-08-29T14:25:46.637Z"
   },
   {
    "duration": 6,
    "start_time": "2022-08-29T14:25:46.907Z"
   },
   {
    "duration": 100,
    "start_time": "2022-08-29T14:25:46.915Z"
   },
   {
    "duration": 807,
    "start_time": "2022-08-29T14:25:47.017Z"
   },
   {
    "duration": 6420,
    "start_time": "2022-08-29T14:25:47.826Z"
   },
   {
    "duration": 4791,
    "start_time": "2022-08-29T14:25:54.248Z"
   },
   {
    "duration": 65,
    "start_time": "2022-08-29T14:25:59.041Z"
   },
   {
    "duration": 95,
    "start_time": "2022-08-29T14:25:59.110Z"
   },
   {
    "duration": 43,
    "start_time": "2022-08-29T14:25:59.207Z"
   },
   {
    "duration": 57,
    "start_time": "2022-08-29T14:25:59.253Z"
   },
   {
    "duration": 316,
    "start_time": "2022-08-29T14:25:59.312Z"
   },
   {
    "duration": 10,
    "start_time": "2022-08-29T14:25:59.630Z"
   },
   {
    "duration": 9,
    "start_time": "2022-08-29T16:34:47.281Z"
   },
   {
    "duration": 5,
    "start_time": "2022-08-29T16:41:30.500Z"
   },
   {
    "duration": 4,
    "start_time": "2022-08-29T16:41:57.244Z"
   },
   {
    "duration": 4,
    "start_time": "2022-08-29T16:41:58.338Z"
   },
   {
    "duration": 119,
    "start_time": "2022-08-29T16:56:09.614Z"
   },
   {
    "duration": 1467,
    "start_time": "2022-08-29T16:56:18.497Z"
   },
   {
    "duration": 55,
    "start_time": "2022-08-29T16:56:19.966Z"
   },
   {
    "duration": 13,
    "start_time": "2022-08-29T16:56:20.023Z"
   },
   {
    "duration": 6,
    "start_time": "2022-08-29T16:56:20.038Z"
   },
   {
    "duration": 12,
    "start_time": "2022-08-29T16:56:20.047Z"
   },
   {
    "duration": 11,
    "start_time": "2022-08-29T16:56:20.061Z"
   },
   {
    "duration": 35,
    "start_time": "2022-08-29T16:56:20.074Z"
   },
   {
    "duration": 9,
    "start_time": "2022-08-29T16:56:20.110Z"
   },
   {
    "duration": 10,
    "start_time": "2022-08-29T16:56:20.121Z"
   },
   {
    "duration": 156,
    "start_time": "2022-08-29T16:56:20.133Z"
   },
   {
    "duration": 12,
    "start_time": "2022-08-29T16:56:20.291Z"
   },
   {
    "duration": 170,
    "start_time": "2022-08-29T16:56:20.306Z"
   },
   {
    "duration": 8,
    "start_time": "2022-08-29T16:56:20.478Z"
   },
   {
    "duration": 16,
    "start_time": "2022-08-29T16:56:20.489Z"
   },
   {
    "duration": 7,
    "start_time": "2022-08-29T16:56:20.507Z"
   },
   {
    "duration": 10,
    "start_time": "2022-08-29T16:56:20.516Z"
   },
   {
    "duration": 9,
    "start_time": "2022-08-29T16:56:20.528Z"
   },
   {
    "duration": 11,
    "start_time": "2022-08-29T16:56:20.539Z"
   },
   {
    "duration": 128,
    "start_time": "2022-08-29T16:56:20.552Z"
   },
   {
    "duration": 0,
    "start_time": "2022-08-29T16:56:20.682Z"
   },
   {
    "duration": 0,
    "start_time": "2022-08-29T16:56:20.684Z"
   },
   {
    "duration": 0,
    "start_time": "2022-08-29T16:56:20.685Z"
   },
   {
    "duration": 0,
    "start_time": "2022-08-29T16:56:20.686Z"
   },
   {
    "duration": 0,
    "start_time": "2022-08-29T16:56:20.687Z"
   },
   {
    "duration": 0,
    "start_time": "2022-08-29T16:56:20.688Z"
   },
   {
    "duration": 0,
    "start_time": "2022-08-29T16:56:20.690Z"
   },
   {
    "duration": 0,
    "start_time": "2022-08-29T16:56:20.691Z"
   },
   {
    "duration": 0,
    "start_time": "2022-08-29T16:56:20.703Z"
   },
   {
    "duration": 0,
    "start_time": "2022-08-29T16:56:20.705Z"
   },
   {
    "duration": 0,
    "start_time": "2022-08-29T16:56:20.706Z"
   },
   {
    "duration": 0,
    "start_time": "2022-08-29T16:56:20.707Z"
   },
   {
    "duration": 0,
    "start_time": "2022-08-29T16:56:20.708Z"
   },
   {
    "duration": 0,
    "start_time": "2022-08-29T16:56:20.709Z"
   },
   {
    "duration": 0,
    "start_time": "2022-08-29T16:56:20.711Z"
   },
   {
    "duration": 0,
    "start_time": "2022-08-29T16:56:20.712Z"
   },
   {
    "duration": 13,
    "start_time": "2022-08-29T17:08:19.020Z"
   },
   {
    "duration": 13,
    "start_time": "2022-08-29T17:08:38.016Z"
   },
   {
    "duration": 1429,
    "start_time": "2022-08-29T17:08:46.524Z"
   },
   {
    "duration": 54,
    "start_time": "2022-08-29T17:08:47.955Z"
   },
   {
    "duration": 13,
    "start_time": "2022-08-29T17:08:48.010Z"
   },
   {
    "duration": 4,
    "start_time": "2022-08-29T17:08:48.025Z"
   },
   {
    "duration": 4,
    "start_time": "2022-08-29T17:08:48.031Z"
   },
   {
    "duration": 6,
    "start_time": "2022-08-29T17:08:48.037Z"
   },
   {
    "duration": 23,
    "start_time": "2022-08-29T17:08:48.044Z"
   },
   {
    "duration": 42,
    "start_time": "2022-08-29T17:08:48.068Z"
   },
   {
    "duration": 6,
    "start_time": "2022-08-29T17:08:48.111Z"
   },
   {
    "duration": 153,
    "start_time": "2022-08-29T17:08:48.119Z"
   },
   {
    "duration": 5,
    "start_time": "2022-08-29T17:08:48.274Z"
   },
   {
    "duration": 141,
    "start_time": "2022-08-29T17:08:48.281Z"
   },
   {
    "duration": 7,
    "start_time": "2022-08-29T17:08:48.423Z"
   },
   {
    "duration": 7,
    "start_time": "2022-08-29T17:08:48.433Z"
   },
   {
    "duration": 136,
    "start_time": "2022-08-29T17:08:48.441Z"
   },
   {
    "duration": 0,
    "start_time": "2022-08-29T17:08:48.578Z"
   },
   {
    "duration": 0,
    "start_time": "2022-08-29T17:08:48.580Z"
   },
   {
    "duration": 0,
    "start_time": "2022-08-29T17:08:48.581Z"
   },
   {
    "duration": 0,
    "start_time": "2022-08-29T17:08:48.582Z"
   },
   {
    "duration": 0,
    "start_time": "2022-08-29T17:08:48.583Z"
   },
   {
    "duration": 0,
    "start_time": "2022-08-29T17:08:48.584Z"
   },
   {
    "duration": 0,
    "start_time": "2022-08-29T17:08:48.585Z"
   },
   {
    "duration": 0,
    "start_time": "2022-08-29T17:08:48.603Z"
   },
   {
    "duration": 0,
    "start_time": "2022-08-29T17:08:48.605Z"
   },
   {
    "duration": 0,
    "start_time": "2022-08-29T17:08:48.606Z"
   },
   {
    "duration": 0,
    "start_time": "2022-08-29T17:08:48.607Z"
   },
   {
    "duration": 1,
    "start_time": "2022-08-29T17:08:48.607Z"
   },
   {
    "duration": 0,
    "start_time": "2022-08-29T17:08:48.608Z"
   },
   {
    "duration": 0,
    "start_time": "2022-08-29T17:08:48.609Z"
   },
   {
    "duration": 0,
    "start_time": "2022-08-29T17:08:48.610Z"
   },
   {
    "duration": 0,
    "start_time": "2022-08-29T17:08:48.611Z"
   },
   {
    "duration": 0,
    "start_time": "2022-08-29T17:08:48.613Z"
   },
   {
    "duration": 0,
    "start_time": "2022-08-29T17:08:48.614Z"
   },
   {
    "duration": 0,
    "start_time": "2022-08-29T17:08:48.615Z"
   },
   {
    "duration": 0,
    "start_time": "2022-08-29T17:08:48.616Z"
   },
   {
    "duration": 8,
    "start_time": "2022-08-29T17:09:16.587Z"
   },
   {
    "duration": 4,
    "start_time": "2022-08-29T17:09:20.167Z"
   },
   {
    "duration": 4,
    "start_time": "2022-08-29T17:09:20.737Z"
   },
   {
    "duration": 5,
    "start_time": "2022-08-29T17:09:21.114Z"
   },
   {
    "duration": 14,
    "start_time": "2022-08-29T17:14:30.301Z"
   },
   {
    "duration": 17,
    "start_time": "2022-08-29T17:14:47.040Z"
   },
   {
    "duration": 1523,
    "start_time": "2022-08-29T17:15:10.526Z"
   },
   {
    "duration": 58,
    "start_time": "2022-08-29T17:15:12.051Z"
   },
   {
    "duration": 13,
    "start_time": "2022-08-29T17:15:12.111Z"
   },
   {
    "duration": 4,
    "start_time": "2022-08-29T17:15:12.126Z"
   },
   {
    "duration": 5,
    "start_time": "2022-08-29T17:15:12.132Z"
   },
   {
    "duration": 7,
    "start_time": "2022-08-29T17:15:12.139Z"
   },
   {
    "duration": 25,
    "start_time": "2022-08-29T17:15:12.148Z"
   },
   {
    "duration": 36,
    "start_time": "2022-08-29T17:15:12.175Z"
   },
   {
    "duration": 7,
    "start_time": "2022-08-29T17:15:12.214Z"
   },
   {
    "duration": 161,
    "start_time": "2022-08-29T17:15:12.224Z"
   },
   {
    "duration": 6,
    "start_time": "2022-08-29T17:15:12.387Z"
   },
   {
    "duration": 159,
    "start_time": "2022-08-29T17:15:12.394Z"
   },
   {
    "duration": 8,
    "start_time": "2022-08-29T17:15:12.555Z"
   },
   {
    "duration": 8,
    "start_time": "2022-08-29T17:15:12.565Z"
   },
   {
    "duration": 29,
    "start_time": "2022-08-29T17:15:12.574Z"
   },
   {
    "duration": 7,
    "start_time": "2022-08-29T17:15:12.605Z"
   },
   {
    "duration": 10,
    "start_time": "2022-08-29T17:15:12.615Z"
   },
   {
    "duration": 9,
    "start_time": "2022-08-29T17:15:12.627Z"
   },
   {
    "duration": 136,
    "start_time": "2022-08-29T17:15:12.638Z"
   },
   {
    "duration": 0,
    "start_time": "2022-08-29T17:15:12.776Z"
   },
   {
    "duration": 0,
    "start_time": "2022-08-29T17:15:12.778Z"
   },
   {
    "duration": 0,
    "start_time": "2022-08-29T17:15:12.779Z"
   },
   {
    "duration": 0,
    "start_time": "2022-08-29T17:15:12.780Z"
   },
   {
    "duration": 0,
    "start_time": "2022-08-29T17:15:12.781Z"
   },
   {
    "duration": 0,
    "start_time": "2022-08-29T17:15:12.782Z"
   },
   {
    "duration": 0,
    "start_time": "2022-08-29T17:15:12.783Z"
   },
   {
    "duration": 0,
    "start_time": "2022-08-29T17:15:12.784Z"
   },
   {
    "duration": 0,
    "start_time": "2022-08-29T17:15:12.802Z"
   },
   {
    "duration": 0,
    "start_time": "2022-08-29T17:15:12.804Z"
   },
   {
    "duration": 0,
    "start_time": "2022-08-29T17:15:12.805Z"
   },
   {
    "duration": 0,
    "start_time": "2022-08-29T17:15:12.807Z"
   },
   {
    "duration": 0,
    "start_time": "2022-08-29T17:15:12.808Z"
   },
   {
    "duration": 0,
    "start_time": "2022-08-29T17:15:12.809Z"
   },
   {
    "duration": 0,
    "start_time": "2022-08-29T17:15:12.810Z"
   },
   {
    "duration": 0,
    "start_time": "2022-08-29T17:15:12.811Z"
   },
   {
    "duration": 8,
    "start_time": "2022-08-29T17:20:00.061Z"
   },
   {
    "duration": 5,
    "start_time": "2022-08-29T17:20:00.729Z"
   },
   {
    "duration": 4,
    "start_time": "2022-08-29T17:20:01.356Z"
   },
   {
    "duration": 4,
    "start_time": "2022-08-29T17:20:01.893Z"
   },
   {
    "duration": 5,
    "start_time": "2022-08-29T17:21:40.190Z"
   },
   {
    "duration": 5,
    "start_time": "2022-08-29T17:23:04.269Z"
   },
   {
    "duration": 5,
    "start_time": "2022-08-29T17:23:04.899Z"
   },
   {
    "duration": 1427,
    "start_time": "2022-08-29T17:25:51.128Z"
   },
   {
    "duration": 55,
    "start_time": "2022-08-29T17:25:52.557Z"
   },
   {
    "duration": 16,
    "start_time": "2022-08-29T17:25:52.614Z"
   },
   {
    "duration": 5,
    "start_time": "2022-08-29T17:25:52.633Z"
   },
   {
    "duration": 5,
    "start_time": "2022-08-29T17:25:52.640Z"
   },
   {
    "duration": 11,
    "start_time": "2022-08-29T17:25:52.647Z"
   },
   {
    "duration": 29,
    "start_time": "2022-08-29T17:25:52.660Z"
   },
   {
    "duration": 21,
    "start_time": "2022-08-29T17:25:52.690Z"
   },
   {
    "duration": 7,
    "start_time": "2022-08-29T17:25:52.713Z"
   },
   {
    "duration": 154,
    "start_time": "2022-08-29T17:25:52.723Z"
   },
   {
    "duration": 6,
    "start_time": "2022-08-29T17:25:52.878Z"
   },
   {
    "duration": 138,
    "start_time": "2022-08-29T17:25:52.885Z"
   },
   {
    "duration": 7,
    "start_time": "2022-08-29T17:25:53.024Z"
   },
   {
    "duration": 11,
    "start_time": "2022-08-29T17:25:53.033Z"
   },
   {
    "duration": 4,
    "start_time": "2022-08-29T17:25:53.046Z"
   },
   {
    "duration": 6,
    "start_time": "2022-08-29T17:25:53.051Z"
   },
   {
    "duration": 6,
    "start_time": "2022-08-29T17:25:53.058Z"
   },
   {
    "duration": 38,
    "start_time": "2022-08-29T17:25:53.065Z"
   },
   {
    "duration": 4,
    "start_time": "2022-08-29T17:25:53.105Z"
   },
   {
    "duration": 10,
    "start_time": "2022-08-29T17:25:53.111Z"
   },
   {
    "duration": 35,
    "start_time": "2022-08-29T17:25:53.122Z"
   },
   {
    "duration": 127,
    "start_time": "2022-08-29T17:25:53.158Z"
   },
   {
    "duration": 0,
    "start_time": "2022-08-29T17:25:53.287Z"
   },
   {
    "duration": 0,
    "start_time": "2022-08-29T17:25:53.289Z"
   },
   {
    "duration": 0,
    "start_time": "2022-08-29T17:25:53.290Z"
   },
   {
    "duration": 0,
    "start_time": "2022-08-29T17:25:53.291Z"
   },
   {
    "duration": 0,
    "start_time": "2022-08-29T17:25:53.292Z"
   },
   {
    "duration": 0,
    "start_time": "2022-08-29T17:25:53.303Z"
   },
   {
    "duration": 0,
    "start_time": "2022-08-29T17:25:53.304Z"
   },
   {
    "duration": 0,
    "start_time": "2022-08-29T17:25:53.305Z"
   },
   {
    "duration": 0,
    "start_time": "2022-08-29T17:25:53.306Z"
   },
   {
    "duration": 0,
    "start_time": "2022-08-29T17:25:53.307Z"
   },
   {
    "duration": 0,
    "start_time": "2022-08-29T17:25:53.308Z"
   },
   {
    "duration": 0,
    "start_time": "2022-08-29T17:25:53.310Z"
   },
   {
    "duration": 0,
    "start_time": "2022-08-29T17:25:53.311Z"
   },
   {
    "duration": 0,
    "start_time": "2022-08-29T17:25:53.312Z"
   },
   {
    "duration": 0,
    "start_time": "2022-08-29T17:25:53.313Z"
   },
   {
    "duration": 5,
    "start_time": "2022-08-29T17:27:18.077Z"
   },
   {
    "duration": 5,
    "start_time": "2022-08-29T17:27:18.723Z"
   },
   {
    "duration": 4,
    "start_time": "2022-08-29T17:27:19.401Z"
   },
   {
    "duration": 5,
    "start_time": "2022-08-29T17:27:20.186Z"
   },
   {
    "duration": 33,
    "start_time": "2022-08-29T17:27:23.025Z"
   },
   {
    "duration": 8,
    "start_time": "2022-08-29T17:27:27.585Z"
   },
   {
    "duration": 5,
    "start_time": "2022-08-29T17:30:50.207Z"
   },
   {
    "duration": 179,
    "start_time": "2022-08-29T17:31:35.469Z"
   },
   {
    "duration": 24,
    "start_time": "2022-08-29T17:42:18.228Z"
   },
   {
    "duration": 5,
    "start_time": "2022-08-29T17:47:42.148Z"
   },
   {
    "duration": 12,
    "start_time": "2022-08-29T17:50:45.417Z"
   },
   {
    "duration": 50464,
    "start_time": "2022-08-29T17:52:13.464Z"
   },
   {
    "duration": 1179,
    "start_time": "2022-08-29T17:53:03.930Z"
   },
   {
    "duration": 1312,
    "start_time": "2022-08-29T17:53:34.400Z"
   },
   {
    "duration": 1392,
    "start_time": "2022-08-29T17:53:59.921Z"
   },
   {
    "duration": 170,
    "start_time": "2022-08-29T18:04:07.194Z"
   },
   {
    "duration": 174,
    "start_time": "2022-08-29T18:04:27.473Z"
   },
   {
    "duration": 22,
    "start_time": "2022-08-29T18:04:48.878Z"
   },
   {
    "duration": 177,
    "start_time": "2022-08-29T18:12:13.556Z"
   },
   {
    "duration": 177,
    "start_time": "2022-08-29T18:20:16.607Z"
   },
   {
    "duration": 168,
    "start_time": "2022-08-29T18:20:36.887Z"
   },
   {
    "duration": 1481,
    "start_time": "2022-08-29T18:20:43.504Z"
   },
   {
    "duration": 56,
    "start_time": "2022-08-29T18:20:44.987Z"
   },
   {
    "duration": 13,
    "start_time": "2022-08-29T18:20:45.045Z"
   },
   {
    "duration": 9,
    "start_time": "2022-08-29T18:20:45.061Z"
   },
   {
    "duration": 25,
    "start_time": "2022-08-29T18:20:45.072Z"
   },
   {
    "duration": 10,
    "start_time": "2022-08-29T18:20:45.099Z"
   },
   {
    "duration": 32,
    "start_time": "2022-08-29T18:20:45.110Z"
   },
   {
    "duration": 17,
    "start_time": "2022-08-29T18:20:45.144Z"
   },
   {
    "duration": 27,
    "start_time": "2022-08-29T18:20:45.162Z"
   },
   {
    "duration": 136,
    "start_time": "2022-08-29T18:20:45.192Z"
   },
   {
    "duration": 4,
    "start_time": "2022-08-29T18:20:45.330Z"
   },
   {
    "duration": 143,
    "start_time": "2022-08-29T18:20:45.336Z"
   },
   {
    "duration": 7,
    "start_time": "2022-08-29T18:20:45.481Z"
   },
   {
    "duration": 21,
    "start_time": "2022-08-29T18:20:45.490Z"
   },
   {
    "duration": 13,
    "start_time": "2022-08-29T18:20:45.513Z"
   },
   {
    "duration": 10,
    "start_time": "2022-08-29T18:20:45.527Z"
   },
   {
    "duration": 10,
    "start_time": "2022-08-29T18:20:45.538Z"
   },
   {
    "duration": 8,
    "start_time": "2022-08-29T18:20:45.550Z"
   },
   {
    "duration": 6,
    "start_time": "2022-08-29T18:20:45.559Z"
   },
   {
    "duration": 6,
    "start_time": "2022-08-29T18:20:45.567Z"
   },
   {
    "duration": 29,
    "start_time": "2022-08-29T18:20:45.575Z"
   },
   {
    "duration": 34,
    "start_time": "2022-08-29T18:20:45.607Z"
   },
   {
    "duration": 7,
    "start_time": "2022-08-29T18:20:45.642Z"
   },
   {
    "duration": 141,
    "start_time": "2022-08-29T18:20:45.651Z"
   },
   {
    "duration": 0,
    "start_time": "2022-08-29T18:20:45.794Z"
   },
   {
    "duration": 0,
    "start_time": "2022-08-29T18:20:45.796Z"
   },
   {
    "duration": 0,
    "start_time": "2022-08-29T18:20:45.802Z"
   },
   {
    "duration": 0,
    "start_time": "2022-08-29T18:20:45.803Z"
   },
   {
    "duration": 0,
    "start_time": "2022-08-29T18:20:45.805Z"
   },
   {
    "duration": 0,
    "start_time": "2022-08-29T18:20:45.805Z"
   },
   {
    "duration": 0,
    "start_time": "2022-08-29T18:20:45.806Z"
   },
   {
    "duration": 0,
    "start_time": "2022-08-29T18:20:45.807Z"
   },
   {
    "duration": 0,
    "start_time": "2022-08-29T18:20:45.808Z"
   },
   {
    "duration": 0,
    "start_time": "2022-08-29T18:20:45.809Z"
   },
   {
    "duration": 0,
    "start_time": "2022-08-29T18:20:45.810Z"
   },
   {
    "duration": 0,
    "start_time": "2022-08-29T18:20:45.811Z"
   },
   {
    "duration": 0,
    "start_time": "2022-08-29T18:20:45.812Z"
   },
   {
    "duration": 0,
    "start_time": "2022-08-29T18:20:45.813Z"
   },
   {
    "duration": 0,
    "start_time": "2022-08-29T18:20:45.814Z"
   },
   {
    "duration": 0,
    "start_time": "2022-08-29T18:20:45.815Z"
   },
   {
    "duration": 174,
    "start_time": "2022-08-29T18:21:20.377Z"
   },
   {
    "duration": 10,
    "start_time": "2022-08-29T18:23:14.623Z"
   },
   {
    "duration": 49385,
    "start_time": "2022-08-29T18:23:18.906Z"
   },
   {
    "duration": 908,
    "start_time": "2022-08-29T18:24:08.294Z"
   },
   {
    "duration": 24,
    "start_time": "2022-08-29T18:27:45.002Z"
   },
   {
    "duration": 1442,
    "start_time": "2022-08-29T18:27:52.140Z"
   },
   {
    "duration": 55,
    "start_time": "2022-08-29T18:27:53.584Z"
   },
   {
    "duration": 13,
    "start_time": "2022-08-29T18:27:53.641Z"
   },
   {
    "duration": 13,
    "start_time": "2022-08-29T18:27:53.656Z"
   },
   {
    "duration": 16,
    "start_time": "2022-08-29T18:27:53.671Z"
   },
   {
    "duration": 45,
    "start_time": "2022-08-29T18:27:53.689Z"
   },
   {
    "duration": 32,
    "start_time": "2022-08-29T18:27:53.736Z"
   },
   {
    "duration": 22,
    "start_time": "2022-08-29T18:27:53.771Z"
   },
   {
    "duration": 27,
    "start_time": "2022-08-29T18:27:53.796Z"
   },
   {
    "duration": 156,
    "start_time": "2022-08-29T18:27:53.826Z"
   },
   {
    "duration": 6,
    "start_time": "2022-08-29T18:27:53.983Z"
   },
   {
    "duration": 144,
    "start_time": "2022-08-29T18:27:53.990Z"
   },
   {
    "duration": 8,
    "start_time": "2022-08-29T18:27:54.136Z"
   },
   {
    "duration": 10,
    "start_time": "2022-08-29T18:27:54.145Z"
   },
   {
    "duration": 4,
    "start_time": "2022-08-29T18:27:54.157Z"
   },
   {
    "duration": 8,
    "start_time": "2022-08-29T18:27:54.162Z"
   },
   {
    "duration": 35,
    "start_time": "2022-08-29T18:27:54.171Z"
   },
   {
    "duration": 7,
    "start_time": "2022-08-29T18:27:54.208Z"
   },
   {
    "duration": 7,
    "start_time": "2022-08-29T18:27:54.217Z"
   },
   {
    "duration": 22,
    "start_time": "2022-08-29T18:27:54.226Z"
   },
   {
    "duration": 16,
    "start_time": "2022-08-29T18:27:54.250Z"
   },
   {
    "duration": 34,
    "start_time": "2022-08-29T18:27:54.269Z"
   },
   {
    "duration": 9,
    "start_time": "2022-08-29T18:27:54.305Z"
   },
   {
    "duration": 201,
    "start_time": "2022-08-29T18:27:54.316Z"
   },
   {
    "duration": 50168,
    "start_time": "2022-08-29T18:27:54.519Z"
   },
   {
    "duration": 1171,
    "start_time": "2022-08-29T18:28:44.689Z"
   },
   {
    "duration": 42,
    "start_time": "2022-08-29T18:28:45.862Z"
   },
   {
    "duration": 5,
    "start_time": "2022-08-29T18:28:45.908Z"
   },
   {
    "duration": 16,
    "start_time": "2022-08-29T18:28:46.003Z"
   },
   {
    "duration": 698,
    "start_time": "2022-08-29T18:28:46.021Z"
   },
   {
    "duration": 5887,
    "start_time": "2022-08-29T18:28:46.721Z"
   },
   {
    "duration": 4242,
    "start_time": "2022-08-29T18:28:52.610Z"
   },
   {
    "duration": 62,
    "start_time": "2022-08-29T18:28:56.854Z"
   },
   {
    "duration": 12,
    "start_time": "2022-08-29T18:28:57.005Z"
   },
   {
    "duration": 114,
    "start_time": "2022-08-29T18:28:57.019Z"
   },
   {
    "duration": 70,
    "start_time": "2022-08-29T18:28:57.135Z"
   },
   {
    "duration": 292,
    "start_time": "2022-08-29T18:28:57.207Z"
   },
   {
    "duration": 12,
    "start_time": "2022-08-29T18:28:57.504Z"
   },
   {
    "duration": 1158,
    "start_time": "2022-08-29T18:32:25.093Z"
   },
   {
    "duration": 181,
    "start_time": "2022-08-29T18:33:08.280Z"
   },
   {
    "duration": 1195,
    "start_time": "2022-08-29T18:33:31.282Z"
   },
   {
    "duration": 1162,
    "start_time": "2022-08-29T18:34:35.787Z"
   },
   {
    "duration": 1438,
    "start_time": "2022-08-29T18:34:58.343Z"
   },
   {
    "duration": 0,
    "start_time": "2022-08-29T18:34:59.785Z"
   },
   {
    "duration": 0,
    "start_time": "2022-08-29T18:34:59.786Z"
   },
   {
    "duration": 0,
    "start_time": "2022-08-29T18:34:59.787Z"
   },
   {
    "duration": 0,
    "start_time": "2022-08-29T18:34:59.788Z"
   },
   {
    "duration": 0,
    "start_time": "2022-08-29T18:34:59.789Z"
   },
   {
    "duration": 0,
    "start_time": "2022-08-29T18:34:59.790Z"
   },
   {
    "duration": 0,
    "start_time": "2022-08-29T18:34:59.791Z"
   },
   {
    "duration": 0,
    "start_time": "2022-08-29T18:34:59.803Z"
   },
   {
    "duration": 0,
    "start_time": "2022-08-29T18:34:59.804Z"
   },
   {
    "duration": 0,
    "start_time": "2022-08-29T18:34:59.804Z"
   },
   {
    "duration": 0,
    "start_time": "2022-08-29T18:34:59.805Z"
   },
   {
    "duration": 0,
    "start_time": "2022-08-29T18:34:59.806Z"
   },
   {
    "duration": 0,
    "start_time": "2022-08-29T18:34:59.808Z"
   },
   {
    "duration": 0,
    "start_time": "2022-08-29T18:34:59.809Z"
   },
   {
    "duration": 0,
    "start_time": "2022-08-29T18:34:59.810Z"
   },
   {
    "duration": 0,
    "start_time": "2022-08-29T18:34:59.811Z"
   },
   {
    "duration": 0,
    "start_time": "2022-08-29T18:34:59.812Z"
   },
   {
    "duration": 0,
    "start_time": "2022-08-29T18:34:59.814Z"
   },
   {
    "duration": 0,
    "start_time": "2022-08-29T18:34:59.815Z"
   },
   {
    "duration": 0,
    "start_time": "2022-08-29T18:34:59.816Z"
   },
   {
    "duration": 0,
    "start_time": "2022-08-29T18:34:59.817Z"
   },
   {
    "duration": 0,
    "start_time": "2022-08-29T18:34:59.818Z"
   },
   {
    "duration": 0,
    "start_time": "2022-08-29T18:34:59.819Z"
   },
   {
    "duration": 0,
    "start_time": "2022-08-29T18:34:59.820Z"
   },
   {
    "duration": 0,
    "start_time": "2022-08-29T18:34:59.821Z"
   },
   {
    "duration": 0,
    "start_time": "2022-08-29T18:34:59.822Z"
   },
   {
    "duration": 0,
    "start_time": "2022-08-29T18:34:59.823Z"
   },
   {
    "duration": 0,
    "start_time": "2022-08-29T18:34:59.824Z"
   },
   {
    "duration": 0,
    "start_time": "2022-08-29T18:34:59.825Z"
   },
   {
    "duration": 0,
    "start_time": "2022-08-29T18:34:59.826Z"
   },
   {
    "duration": 0,
    "start_time": "2022-08-29T18:34:59.827Z"
   },
   {
    "duration": 0,
    "start_time": "2022-08-29T18:34:59.828Z"
   },
   {
    "duration": 0,
    "start_time": "2022-08-29T18:34:59.828Z"
   },
   {
    "duration": 0,
    "start_time": "2022-08-29T18:34:59.830Z"
   },
   {
    "duration": 0,
    "start_time": "2022-08-29T18:34:59.831Z"
   },
   {
    "duration": 0,
    "start_time": "2022-08-29T18:34:59.832Z"
   },
   {
    "duration": 0,
    "start_time": "2022-08-29T18:34:59.833Z"
   },
   {
    "duration": 1567,
    "start_time": "2022-08-29T18:35:19.329Z"
   },
   {
    "duration": 54,
    "start_time": "2022-08-29T18:35:20.898Z"
   },
   {
    "duration": 14,
    "start_time": "2022-08-29T18:35:20.954Z"
   },
   {
    "duration": 4,
    "start_time": "2022-08-29T18:35:20.970Z"
   },
   {
    "duration": 5,
    "start_time": "2022-08-29T18:35:20.976Z"
   },
   {
    "duration": 6,
    "start_time": "2022-08-29T18:35:20.982Z"
   },
   {
    "duration": 27,
    "start_time": "2022-08-29T18:35:20.990Z"
   },
   {
    "duration": 10,
    "start_time": "2022-08-29T18:35:21.019Z"
   },
   {
    "duration": 6,
    "start_time": "2022-08-29T18:35:21.031Z"
   },
   {
    "duration": 155,
    "start_time": "2022-08-29T18:35:21.038Z"
   },
   {
    "duration": 12,
    "start_time": "2022-08-29T18:35:21.195Z"
   },
   {
    "duration": 153,
    "start_time": "2022-08-29T18:35:21.208Z"
   },
   {
    "duration": 8,
    "start_time": "2022-08-29T18:35:21.363Z"
   },
   {
    "duration": 28,
    "start_time": "2022-08-29T18:35:21.375Z"
   },
   {
    "duration": 4,
    "start_time": "2022-08-29T18:35:21.405Z"
   },
   {
    "duration": 8,
    "start_time": "2022-08-29T18:35:21.411Z"
   },
   {
    "duration": 5,
    "start_time": "2022-08-29T18:35:21.421Z"
   },
   {
    "duration": 9,
    "start_time": "2022-08-29T18:35:21.428Z"
   },
   {
    "duration": 12,
    "start_time": "2022-08-29T18:35:21.439Z"
   },
   {
    "duration": 7,
    "start_time": "2022-08-29T18:35:21.452Z"
   },
   {
    "duration": 7,
    "start_time": "2022-08-29T18:35:21.461Z"
   },
   {
    "duration": 57,
    "start_time": "2022-08-29T18:35:21.470Z"
   },
   {
    "duration": 6,
    "start_time": "2022-08-29T18:35:21.529Z"
   },
   {
    "duration": 181,
    "start_time": "2022-08-29T18:35:21.537Z"
   },
   {
    "duration": 50636,
    "start_time": "2022-08-29T18:35:21.720Z"
   },
   {
    "duration": 1045,
    "start_time": "2022-08-29T18:36:12.359Z"
   },
   {
    "duration": 197,
    "start_time": "2022-08-29T18:36:13.406Z"
   },
   {
    "duration": 4,
    "start_time": "2022-08-29T18:36:13.605Z"
   },
   {
    "duration": 38,
    "start_time": "2022-08-29T18:36:13.611Z"
   },
   {
    "duration": 713,
    "start_time": "2022-08-29T18:36:13.650Z"
   },
   {
    "duration": 6139,
    "start_time": "2022-08-29T18:36:14.365Z"
   },
   {
    "duration": 4388,
    "start_time": "2022-08-29T18:36:20.506Z"
   },
   {
    "duration": 38,
    "start_time": "2022-08-29T18:36:24.896Z"
   },
   {
    "duration": 168,
    "start_time": "2022-08-29T18:36:24.936Z"
   },
   {
    "duration": 56,
    "start_time": "2022-08-29T18:36:25.106Z"
   },
   {
    "duration": 52,
    "start_time": "2022-08-29T18:36:25.163Z"
   },
   {
    "duration": 289,
    "start_time": "2022-08-29T18:36:25.217Z"
   },
   {
    "duration": 10,
    "start_time": "2022-08-29T18:36:25.508Z"
   },
   {
    "duration": 51,
    "start_time": "2022-08-29T18:54:12.056Z"
   },
   {
    "duration": 658,
    "start_time": "2022-08-29T19:00:04.515Z"
   },
   {
    "duration": 130,
    "start_time": "2022-08-29T19:03:07.307Z"
   },
   {
    "duration": 50166,
    "start_time": "2022-08-29T19:46:46.067Z"
   },
   {
    "duration": 1403,
    "start_time": "2022-08-29T19:54:14.818Z"
   },
   {
    "duration": 31,
    "start_time": "2022-08-29T19:54:43.591Z"
   },
   {
    "duration": 1455,
    "start_time": "2022-08-29T19:55:14.101Z"
   },
   {
    "duration": 57,
    "start_time": "2022-08-29T19:55:15.558Z"
   },
   {
    "duration": 13,
    "start_time": "2022-08-29T19:55:15.616Z"
   },
   {
    "duration": 4,
    "start_time": "2022-08-29T19:55:15.631Z"
   },
   {
    "duration": 8,
    "start_time": "2022-08-29T19:55:15.637Z"
   },
   {
    "duration": 10,
    "start_time": "2022-08-29T19:55:15.647Z"
   },
   {
    "duration": 45,
    "start_time": "2022-08-29T19:55:15.659Z"
   },
   {
    "duration": 10,
    "start_time": "2022-08-29T19:55:15.706Z"
   },
   {
    "duration": 6,
    "start_time": "2022-08-29T19:55:15.719Z"
   },
   {
    "duration": 161,
    "start_time": "2022-08-29T19:55:15.728Z"
   },
   {
    "duration": 11,
    "start_time": "2022-08-29T19:55:15.891Z"
   },
   {
    "duration": 141,
    "start_time": "2022-08-29T19:55:15.904Z"
   },
   {
    "duration": 7,
    "start_time": "2022-08-29T19:55:16.048Z"
   },
   {
    "duration": 24,
    "start_time": "2022-08-29T19:55:16.057Z"
   },
   {
    "duration": 24,
    "start_time": "2022-08-29T19:55:16.083Z"
   },
   {
    "duration": 13,
    "start_time": "2022-08-29T19:55:16.109Z"
   },
   {
    "duration": 25,
    "start_time": "2022-08-29T19:55:16.124Z"
   },
   {
    "duration": 17,
    "start_time": "2022-08-29T19:55:16.151Z"
   },
   {
    "duration": 28,
    "start_time": "2022-08-29T19:55:16.170Z"
   },
   {
    "duration": 26,
    "start_time": "2022-08-29T19:55:16.200Z"
   },
   {
    "duration": 34,
    "start_time": "2022-08-29T19:55:16.228Z"
   },
   {
    "duration": 53,
    "start_time": "2022-08-29T19:55:16.263Z"
   },
   {
    "duration": 24,
    "start_time": "2022-08-29T19:55:16.318Z"
   },
   {
    "duration": 185,
    "start_time": "2022-08-29T19:55:16.344Z"
   },
   {
    "duration": 50471,
    "start_time": "2022-08-29T19:55:16.531Z"
   },
   {
    "duration": 1197,
    "start_time": "2022-08-29T19:56:07.003Z"
   },
   {
    "duration": 28,
    "start_time": "2022-08-29T19:56:08.201Z"
   },
   {
    "duration": 98,
    "start_time": "2022-08-29T19:56:08.306Z"
   },
   {
    "duration": 26,
    "start_time": "2022-08-29T19:56:08.406Z"
   },
   {
    "duration": 698,
    "start_time": "2022-08-29T19:56:08.434Z"
   },
   {
    "duration": 50473,
    "start_time": "2022-08-29T19:56:09.135Z"
   },
   {
    "duration": 1005,
    "start_time": "2022-08-29T19:56:59.610Z"
   },
   {
    "duration": 32,
    "start_time": "2022-08-29T19:57:00.617Z"
   },
   {
    "duration": 99,
    "start_time": "2022-08-29T19:57:00.704Z"
   },
   {
    "duration": 203,
    "start_time": "2022-08-29T19:57:00.805Z"
   },
   {
    "duration": 15,
    "start_time": "2022-08-29T19:57:01.009Z"
   },
   {
    "duration": 313,
    "start_time": "2022-08-29T19:57:01.104Z"
   },
   {
    "duration": 11,
    "start_time": "2022-08-29T19:57:01.419Z"
   },
   {
    "duration": 27574,
    "start_time": "2022-08-29T20:00:39.153Z"
   },
   {
    "duration": 892,
    "start_time": "2022-08-29T20:01:06.728Z"
   },
   {
    "duration": 39293,
    "start_time": "2022-08-29T20:01:54.583Z"
   },
   {
    "duration": 571,
    "start_time": "2022-08-29T20:02:33.877Z"
   },
   {
    "duration": 23314,
    "start_time": "2022-08-29T20:03:27.337Z"
   },
   {
    "duration": 583,
    "start_time": "2022-08-29T20:03:50.653Z"
   },
   {
    "duration": 49857,
    "start_time": "2022-08-29T20:06:36.015Z"
   },
   {
    "duration": 1162,
    "start_time": "2022-08-29T20:07:25.874Z"
   },
   {
    "duration": 37,
    "start_time": "2022-08-29T20:15:15.665Z"
   },
   {
    "duration": 1452,
    "start_time": "2022-08-29T20:19:02.927Z"
   },
   {
    "duration": 62,
    "start_time": "2022-08-29T20:19:04.382Z"
   },
   {
    "duration": 17,
    "start_time": "2022-08-29T20:19:04.446Z"
   },
   {
    "duration": 5,
    "start_time": "2022-08-29T20:19:04.465Z"
   },
   {
    "duration": 6,
    "start_time": "2022-08-29T20:19:04.472Z"
   },
   {
    "duration": 24,
    "start_time": "2022-08-29T20:19:04.480Z"
   },
   {
    "duration": 22,
    "start_time": "2022-08-29T20:19:04.505Z"
   },
   {
    "duration": 10,
    "start_time": "2022-08-29T20:19:04.528Z"
   },
   {
    "duration": 7,
    "start_time": "2022-08-29T20:19:04.540Z"
   },
   {
    "duration": 165,
    "start_time": "2022-08-29T20:19:04.550Z"
   },
   {
    "duration": 5,
    "start_time": "2022-08-29T20:19:04.717Z"
   },
   {
    "duration": 139,
    "start_time": "2022-08-29T20:19:04.723Z"
   },
   {
    "duration": 7,
    "start_time": "2022-08-29T20:19:04.864Z"
   },
   {
    "duration": 11,
    "start_time": "2022-08-29T20:19:04.873Z"
   },
   {
    "duration": 18,
    "start_time": "2022-08-29T20:19:04.886Z"
   },
   {
    "duration": 4,
    "start_time": "2022-08-29T20:19:04.905Z"
   },
   {
    "duration": 7,
    "start_time": "2022-08-29T20:19:04.911Z"
   },
   {
    "duration": 7,
    "start_time": "2022-08-29T20:19:04.919Z"
   },
   {
    "duration": 6,
    "start_time": "2022-08-29T20:19:04.927Z"
   },
   {
    "duration": 11,
    "start_time": "2022-08-29T20:19:04.935Z"
   },
   {
    "duration": 6,
    "start_time": "2022-08-29T20:19:04.948Z"
   },
   {
    "duration": 59,
    "start_time": "2022-08-29T20:19:04.956Z"
   },
   {
    "duration": 7,
    "start_time": "2022-08-29T20:19:05.017Z"
   },
   {
    "duration": 189,
    "start_time": "2022-08-29T20:19:05.026Z"
   },
   {
    "duration": 50828,
    "start_time": "2022-08-29T20:19:05.217Z"
   },
   {
    "duration": 1169,
    "start_time": "2022-08-29T20:19:56.047Z"
   },
   {
    "duration": 85,
    "start_time": "2022-08-29T20:19:57.218Z"
   },
   {
    "duration": 6,
    "start_time": "2022-08-29T20:19:57.307Z"
   },
   {
    "duration": 95,
    "start_time": "2022-08-29T20:19:57.315Z"
   },
   {
    "duration": 655,
    "start_time": "2022-08-29T20:19:57.412Z"
   },
   {
    "duration": 50742,
    "start_time": "2022-08-29T20:19:58.069Z"
   },
   {
    "duration": 1379,
    "start_time": "2022-08-29T20:20:48.813Z"
   },
   {
    "duration": 36,
    "start_time": "2022-08-29T20:20:50.193Z"
   },
   {
    "duration": 196,
    "start_time": "2022-08-29T20:20:50.231Z"
   },
   {
    "duration": 16,
    "start_time": "2022-08-29T20:20:50.429Z"
   },
   {
    "duration": 202,
    "start_time": "2022-08-29T20:20:50.447Z"
   },
   {
    "duration": 55,
    "start_time": "2022-08-29T20:20:50.651Z"
   },
   {
    "duration": 285,
    "start_time": "2022-08-29T20:20:50.708Z"
   },
   {
    "duration": 15,
    "start_time": "2022-08-29T20:20:50.995Z"
   },
   {
    "duration": 13,
    "start_time": "2022-08-29T20:24:49.509Z"
   },
   {
    "duration": 42,
    "start_time": "2022-08-30T19:37:35.104Z"
   },
   {
    "duration": 1550,
    "start_time": "2022-08-30T19:37:55.965Z"
   },
   {
    "duration": 175,
    "start_time": "2022-08-30T19:37:57.517Z"
   },
   {
    "duration": 13,
    "start_time": "2022-08-30T19:37:57.693Z"
   },
   {
    "duration": 4,
    "start_time": "2022-08-30T19:37:57.707Z"
   },
   {
    "duration": 5,
    "start_time": "2022-08-30T19:37:57.712Z"
   },
   {
    "duration": 6,
    "start_time": "2022-08-30T19:37:57.719Z"
   },
   {
    "duration": 18,
    "start_time": "2022-08-30T19:37:57.727Z"
   },
   {
    "duration": 13,
    "start_time": "2022-08-30T19:37:57.747Z"
   },
   {
    "duration": 7,
    "start_time": "2022-08-30T19:37:57.761Z"
   },
   {
    "duration": 128,
    "start_time": "2022-08-30T19:37:57.769Z"
   },
   {
    "duration": 5,
    "start_time": "2022-08-30T19:37:57.898Z"
   },
   {
    "duration": 113,
    "start_time": "2022-08-30T19:37:57.904Z"
   },
   {
    "duration": 6,
    "start_time": "2022-08-30T19:37:58.019Z"
   },
   {
    "duration": 9,
    "start_time": "2022-08-30T19:37:58.027Z"
   },
   {
    "duration": 3,
    "start_time": "2022-08-30T19:37:58.037Z"
   },
   {
    "duration": 4,
    "start_time": "2022-08-30T19:37:58.054Z"
   },
   {
    "duration": 5,
    "start_time": "2022-08-30T19:37:58.059Z"
   },
   {
    "duration": 9,
    "start_time": "2022-08-30T19:37:58.066Z"
   },
   {
    "duration": 6,
    "start_time": "2022-08-30T19:37:58.077Z"
   },
   {
    "duration": 6,
    "start_time": "2022-08-30T19:37:58.084Z"
   },
   {
    "duration": 6,
    "start_time": "2022-08-30T19:37:58.091Z"
   },
   {
    "duration": 27,
    "start_time": "2022-08-30T19:37:58.099Z"
   },
   {
    "duration": 29,
    "start_time": "2022-08-30T19:37:58.128Z"
   },
   {
    "duration": 144,
    "start_time": "2022-08-30T19:37:58.159Z"
   },
   {
    "duration": 41756,
    "start_time": "2022-08-30T19:37:58.305Z"
   },
   {
    "duration": 341,
    "start_time": "2022-08-30T19:38:40.062Z"
   },
   {
    "duration": 284,
    "start_time": "2022-08-30T19:38:40.405Z"
   },
   {
    "duration": 0,
    "start_time": "2022-08-30T19:38:40.690Z"
   },
   {
    "duration": 0,
    "start_time": "2022-08-30T19:38:40.691Z"
   },
   {
    "duration": 0,
    "start_time": "2022-08-30T19:38:40.693Z"
   },
   {
    "duration": 0,
    "start_time": "2022-08-30T19:38:40.694Z"
   },
   {
    "duration": 0,
    "start_time": "2022-08-30T19:38:40.694Z"
   },
   {
    "duration": 0,
    "start_time": "2022-08-30T19:38:40.695Z"
   },
   {
    "duration": 0,
    "start_time": "2022-08-30T19:38:40.696Z"
   },
   {
    "duration": 0,
    "start_time": "2022-08-30T19:38:40.698Z"
   },
   {
    "duration": 0,
    "start_time": "2022-08-30T19:38:40.698Z"
   },
   {
    "duration": 0,
    "start_time": "2022-08-30T19:38:40.699Z"
   },
   {
    "duration": 0,
    "start_time": "2022-08-30T19:38:40.700Z"
   },
   {
    "duration": 0,
    "start_time": "2022-08-30T19:38:40.701Z"
   },
   {
    "duration": 1249,
    "start_time": "2022-08-30T19:43:22.097Z"
   },
   {
    "duration": 49,
    "start_time": "2022-08-30T19:43:23.348Z"
   },
   {
    "duration": 10,
    "start_time": "2022-08-30T19:43:23.399Z"
   },
   {
    "duration": 6,
    "start_time": "2022-08-30T19:43:23.411Z"
   },
   {
    "duration": 6,
    "start_time": "2022-08-30T19:43:23.418Z"
   },
   {
    "duration": 7,
    "start_time": "2022-08-30T19:43:23.425Z"
   },
   {
    "duration": 19,
    "start_time": "2022-08-30T19:43:23.433Z"
   },
   {
    "duration": 7,
    "start_time": "2022-08-30T19:43:23.453Z"
   },
   {
    "duration": 5,
    "start_time": "2022-08-30T19:43:23.461Z"
   },
   {
    "duration": 130,
    "start_time": "2022-08-30T19:43:23.468Z"
   },
   {
    "duration": 4,
    "start_time": "2022-08-30T19:43:23.599Z"
   },
   {
    "duration": 114,
    "start_time": "2022-08-30T19:43:23.604Z"
   },
   {
    "duration": 6,
    "start_time": "2022-08-30T19:43:23.720Z"
   },
   {
    "duration": 8,
    "start_time": "2022-08-30T19:43:23.728Z"
   },
   {
    "duration": 18,
    "start_time": "2022-08-30T19:43:23.738Z"
   },
   {
    "duration": 6,
    "start_time": "2022-08-30T19:43:23.757Z"
   },
   {
    "duration": 7,
    "start_time": "2022-08-30T19:43:23.765Z"
   },
   {
    "duration": 10,
    "start_time": "2022-08-30T19:43:23.774Z"
   },
   {
    "duration": 12,
    "start_time": "2022-08-30T19:43:23.785Z"
   },
   {
    "duration": 9,
    "start_time": "2022-08-30T19:43:23.798Z"
   },
   {
    "duration": 8,
    "start_time": "2022-08-30T19:43:23.809Z"
   },
   {
    "duration": 26,
    "start_time": "2022-08-30T19:43:23.818Z"
   },
   {
    "duration": 6,
    "start_time": "2022-08-30T19:43:23.845Z"
   },
   {
    "duration": 134,
    "start_time": "2022-08-30T19:43:23.855Z"
   },
   {
    "duration": 41018,
    "start_time": "2022-08-30T19:43:23.991Z"
   },
   {
    "duration": 163,
    "start_time": "2022-08-30T19:44:05.011Z"
   },
   {
    "duration": 16,
    "start_time": "2022-08-30T19:44:05.176Z"
   },
   {
    "duration": 65,
    "start_time": "2022-08-30T19:44:05.195Z"
   },
   {
    "duration": 104,
    "start_time": "2022-08-30T19:44:05.262Z"
   },
   {
    "duration": 516,
    "start_time": "2022-08-30T19:44:05.368Z"
   },
   {
    "duration": 41800,
    "start_time": "2022-08-30T19:44:05.885Z"
   },
   {
    "duration": 756,
    "start_time": "2022-08-30T19:44:47.686Z"
   },
   {
    "duration": 25,
    "start_time": "2022-08-30T19:44:48.445Z"
   },
   {
    "duration": 192,
    "start_time": "2022-08-30T19:44:48.472Z"
   },
   {
    "duration": 8,
    "start_time": "2022-08-30T19:44:48.665Z"
   },
   {
    "duration": 19,
    "start_time": "2022-08-30T19:44:48.674Z"
   },
   {
    "duration": 61,
    "start_time": "2022-08-30T19:44:48.694Z"
   },
   {
    "duration": 263,
    "start_time": "2022-08-30T19:44:48.757Z"
   },
   {
    "duration": 10,
    "start_time": "2022-08-30T19:44:49.021Z"
   },
   {
    "duration": 18650,
    "start_time": "2022-08-30T19:58:46.121Z"
   },
   {
    "duration": 656,
    "start_time": "2022-08-30T20:01:31.275Z"
   },
   {
    "duration": 807,
    "start_time": "2022-08-30T20:02:45.649Z"
   },
   {
    "duration": 20,
    "start_time": "2022-08-30T20:02:46.458Z"
   },
   {
    "duration": 847,
    "start_time": "2022-08-30T20:08:59.856Z"
   },
   {
    "duration": 26,
    "start_time": "2022-08-30T20:11:11.949Z"
   },
   {
    "duration": 35,
    "start_time": "2022-08-30T20:12:47.190Z"
   },
   {
    "duration": 666,
    "start_time": "2022-08-30T20:16:26.505Z"
   },
   {
    "duration": 9,
    "start_time": "2022-08-30T20:23:21.406Z"
   }
  ],
  "kernelspec": {
   "display_name": "Python 3 (ipykernel)",
   "language": "python",
   "name": "python3"
  },
  "language_info": {
   "codemirror_mode": {
    "name": "ipython",
    "version": 3
   },
   "file_extension": ".py",
   "mimetype": "text/x-python",
   "name": "python",
   "nbconvert_exporter": "python",
   "pygments_lexer": "ipython3",
   "version": "3.9.7"
  },
  "toc": {
   "base_numbering": 1,
   "nav_menu": {},
   "number_sections": true,
   "sideBar": true,
   "skip_h1_title": true,
   "title_cell": "Содержание",
   "title_sidebar": "Contents",
   "toc_cell": true,
   "toc_position": {
    "height": "calc(100% - 180px)",
    "left": "10px",
    "top": "150px",
    "width": "165px"
   },
   "toc_section_display": true,
   "toc_window_display": true
  }
 },
 "nbformat": 4,
 "nbformat_minor": 2
}
